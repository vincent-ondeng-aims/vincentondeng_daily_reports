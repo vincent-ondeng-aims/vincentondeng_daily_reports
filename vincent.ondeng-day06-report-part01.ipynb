{
 "cells": [
  {
   "cell_type": "markdown",
   "id": "c75484ef-231e-4f67-a9b9-edc86b4c9063",
   "metadata": {},
   "source": [
    "### Question 1a\n",
    "Compute the following expressions for a natural number $n$ chosen by the user:\n",
    "$$\n",
    "\\sum_{i=0}^{n-1} (i + 3)\n",
    "$$\n",
    "when i is odd"
   ]
  },
  {
   "cell_type": "code",
   "execution_count": 35,
   "id": "c8e733b6-8c5a-45fc-b3ee-df056a20911b",
   "metadata": {},
   "outputs": [
    {
     "name": "stdin",
     "output_type": "stream",
     "text": [
      "Enter a natural number i.e greater than:  5\n"
     ]
    },
    {
     "name": "stdout",
     "output_type": "stream",
     "text": [
      "10\n"
     ]
    }
   ],
   "source": [
    "n = int(input(\"Enter a natural number i.e greater than: \"))\n",
    "\n",
    "# initialize sum to 0\n",
    "sum_odd = 0\n",
    "\n",
    "for i in range(1, n):\n",
    "    if i % 2 != 0:\n",
    "        sum_odd += i + 3\n",
    "print(sum_odd)"
   ]
  },
  {
   "cell_type": "markdown",
   "id": "5f7f8e75-5d17-4ed3-8560-467938df9b56",
   "metadata": {},
   "source": [
    "### Question 1b\n",
    "$$\n",
    "\\prod_{i=0}^{n-1} (i +3)\n",
    "$$\n",
    "when i is even"
   ]
  },
  {
   "cell_type": "code",
   "execution_count": 18,
   "id": "946b7cec-318e-4729-81c6-f0b0a1a4b71c",
   "metadata": {},
   "outputs": [
    {
     "name": "stdin",
     "output_type": "stream",
     "text": [
      "Enter a number greater than 0:  5\n"
     ]
    },
    {
     "name": "stdout",
     "output_type": "stream",
     "text": [
      "105\n"
     ]
    }
   ],
   "source": [
    "p = int(input(\"Enter a number greater than 0: \"))\n",
    "\n",
    "# initialize product to 0\n",
    "product_even = 3\n",
    "\n",
    "for i in range(1, p):\n",
    "    if i % 2 == 0:\n",
    "        product_even *= i + 3\n",
    "print(product_even)"
   ]
  },
  {
   "cell_type": "markdown",
   "id": "2ce836e7-f158-45f2-9750-c7e3b838c345",
   "metadata": {},
   "source": [
    "### Question 2\n",
    "Write a program that reads the number of the day of the week (from 0 to 6). If it is a\n",
    "working day, then the program will write the name of the corresponding day. Otherwise,\n",
    "it will write the word \"Weekend\"."
   ]
  },
  {
   "cell_type": "code",
   "execution_count": 4,
   "id": "865463b5-3949-45ff-b92b-ea1bc21095c9",
   "metadata": {},
   "outputs": [
    {
     "name": "stdin",
     "output_type": "stream",
     "text": [
      "Please input a number between 0 and 6:  13\n"
     ]
    },
    {
     "name": "stdout",
     "output_type": "stream",
     "text": [
      "Invalid number\n"
     ]
    }
   ],
   "source": [
    "day_of_the_week = int(input(\"Please input a number between 0 and 6: \"))\n",
    "\n",
    "if day_of_the_week == 0 or day_of_the_week == 6:\n",
    "    print(\"Weekend\")\n",
    "elif day_of_the_week == 1:\n",
    "    print(\"Monday\")\n",
    "elif day_of_the_week == 2:\n",
    "    print(\"Tuesday\")\n",
    "elif day_of_the_week == 3:\n",
    "    print(\"Wednesday\")\n",
    "elif day_of_the_week == 4:\n",
    "    print(\"Thursday\")\n",
    "elif day_of_the_week == 5:\n",
    "    print(\"Friday\")\n",
    "else:\n",
    "    print(\"Invalid number\")"
   ]
  },
  {
   "cell_type": "markdown",
   "id": "3637eb29-6a63-4ba8-a005-922adb0eadda",
   "metadata": {},
   "source": [
    "### Question 3\n",
    "Make a program that, given a month number (from 0 to 11), indicates how many days it\n",
    "has (28, 30 or 31), ignoring the leap years."
   ]
  },
  {
   "cell_type": "code",
   "execution_count": 26,
   "id": "976d589d-398d-4b01-a318-97e912a0192c",
   "metadata": {},
   "outputs": [
    {
     "name": "stdin",
     "output_type": "stream",
     "text": [
      "Please enter a number between 0 and 11:  13\n"
     ]
    },
    {
     "name": "stdout",
     "output_type": "stream",
     "text": [
      "The number you entered is invalid\n"
     ]
    }
   ],
   "source": [
    "month_number = int(input(\"Please enter a number between 0 and 11: \"))\n",
    "\n",
    "days_of_the_month = [31,28,31,30,31,30,31,31,30,31,30,31]\n",
    "\n",
    "if month_number == 0:\n",
    "    print(\"January has\", days_of_the_month[0],\"days\")\n",
    "elif month_number == 1:\n",
    "    print(\"February has\", days_of_the_month[1],\"days\")\n",
    "elif month_number == 2:\n",
    "    print(\"March has\", days_of_the_month[2],\"days\")\n",
    "elif month_number == 3:\n",
    "    print(\"April has\", days_of_the_month[4],\"days\")\n",
    "elif month_number == 4:\n",
    "    print(\"May has\", days_of_the_month[4],\"days\")\n",
    "elif month_number == 5:\n",
    "    print(\"June has\", days_of_the_month[5],\"days\")\n",
    "elif month_number == 6:\n",
    "    print(\"July has\", days_of_the_month[6],\"days\")\n",
    "elif month_number == 7:\n",
    "    print(\"August has\", days_of_the_month[7],\"days\")\n",
    "elif month_number == 8:\n",
    "    print(\"September has\", days_of_the_month[8],\"days\")\n",
    "elif month_number == 9:\n",
    "    print(\"October has\", days_of_the_month[9],\"days\")\n",
    "elif month_number == 10:\n",
    "    print(\"November has\", days_of_the_month[10],\"days\")\n",
    "elif month_number == 11:\n",
    "    print(\"December has\", days_of_the_month[11],\"days\")\n",
    "else:\n",
    "    print(\"The number you entered is invalid\")"
   ]
  },
  {
   "cell_type": "markdown",
   "id": "62d44236-ba23-4558-93e6-d36c4b9a641c",
   "metadata": {},
   "source": [
    "### Question 4\n",
    "Write two versions of python code that displays your name 3 times. One version with a\n",
    "\"for loop\" and another version with a \"while loop\"."
   ]
  },
  {
   "cell_type": "code",
   "execution_count": 65,
   "id": "92f1b787-a130-41dd-a73b-898a8041e0f3",
   "metadata": {},
   "outputs": [
    {
     "name": "stdout",
     "output_type": "stream",
     "text": [
      "Vincent\n",
      "Vincent\n",
      "Vincent\n"
     ]
    }
   ],
   "source": [
    "name = \"Vincent\"\n",
    "\n",
    "for i in range(3):\n",
    "    print(name)"
   ]
  },
  {
   "cell_type": "code",
   "execution_count": 120,
   "id": "4da66122-f75a-46a3-a846-fe3ee51df7cf",
   "metadata": {},
   "outputs": [
    {
     "name": "stdout",
     "output_type": "stream",
     "text": [
      "Vincent\n",
      "Vincent\n",
      "Vincent\n"
     ]
    }
   ],
   "source": [
    "name = \"Vincent\"\n",
    "\n",
    "count = 1\n",
    "\n",
    "while count <= 3:\n",
    "    print(name)\n",
    "    count = count + 1"
   ]
  },
  {
   "cell_type": "markdown",
   "id": "c35f3470-1882-4ff8-b812-5cc68c009680",
   "metadata": {},
   "source": [
    "### Question 7a\n",
    "Write python code to determine whether or not a year is a leap year. Be sure you\n",
    "know what a leap year is."
   ]
  },
  {
   "cell_type": "code",
   "execution_count": 62,
   "id": "27da077e-c2d9-4589-80e4-86f292765c91",
   "metadata": {},
   "outputs": [
    {
     "name": "stdin",
     "output_type": "stream",
     "text": [
      "Enter year:  3033\n"
     ]
    },
    {
     "name": "stdout",
     "output_type": "stream",
     "text": [
      "3033 is not a leap year\n"
     ]
    }
   ],
   "source": [
    "year = int(input(\"Enter year: \"))\n",
    "if year % 4 == 0:\n",
    "    print(year,\"is a leap year\")\n",
    "else:\n",
    "    print(year, \"is not a leap year\")"
   ]
  },
  {
   "cell_type": "markdown",
   "id": "0138b6fb-ab9b-43d7-a900-c4aad1f21f6a",
   "metadata": {},
   "source": [
    "### Question 8a\n",
    "Write python code that computes the sum of the square of the first n natural numbers.\n",
    "One version with a \"for loop\" and another version with a \"while loop\"."
   ]
  },
  {
   "cell_type": "code",
   "execution_count": 84,
   "id": "96abcc7a-32ab-47f8-8909-34ba4e47073b",
   "metadata": {},
   "outputs": [
    {
     "name": "stdin",
     "output_type": "stream",
     "text": [
      "Enter any number greater than 0:  90\n"
     ]
    },
    {
     "name": "stdout",
     "output_type": "stream",
     "text": [
      "247065\n"
     ]
    }
   ],
   "source": [
    "num = int(input(\"Enter any number greater than 0: \"))\n",
    "\n",
    "sum_square = 0\n",
    "\n",
    "for i in range(1,num+1):\n",
    "    sum_square += i*i\n",
    "print(sum_square)"
   ]
  },
  {
   "cell_type": "code",
   "execution_count": 89,
   "id": "0cfe128e-e808-44f1-99b3-56c6a7661e9d",
   "metadata": {},
   "outputs": [
    {
     "name": "stdin",
     "output_type": "stream",
     "text": [
      "Enter any number greater than 0:  90\n"
     ]
    },
    {
     "name": "stdout",
     "output_type": "stream",
     "text": [
      "247065\n"
     ]
    }
   ],
   "source": [
    "num = int(input(\"Enter any number greater than 0: \"))\n",
    "\n",
    "count = 0\n",
    "sum_square = 0\n",
    "\n",
    "while count <= num:\n",
    "    sum_square += count * count\n",
    "    count +=1\n",
    "print(sum_square)"
   ]
  },
  {
   "cell_type": "markdown",
   "id": "69c1b19a-4a37-472f-bd22-7763c3d8b502",
   "metadata": {},
   "source": [
    "### Question 9a\n",
    "Write python code that prints all the divisors of a given natural number."
   ]
  },
  {
   "cell_type": "code",
   "execution_count": 116,
   "id": "b143ccba-83a1-437f-a9cd-75cafb4d382c",
   "metadata": {},
   "outputs": [
    {
     "name": "stdin",
     "output_type": "stream",
     "text": [
      "Enter any real number:  68\n"
     ]
    },
    {
     "name": "stdout",
     "output_type": "stream",
     "text": [
      "[2, 4, 17, 34]\n"
     ]
    }
   ],
   "source": [
    "num = int(input(\"Enter any real number: \"))\n",
    "\n",
    "divisors = []\n",
    "\n",
    "for i in range(2, num):\n",
    "    if num % i == 0:\n",
    "        divisors.append(i)\n",
    "print(divisors)"
   ]
  },
  {
   "cell_type": "markdown",
   "id": "27570012-ad02-4cbb-ab9f-a024565212e2",
   "metadata": {},
   "source": [
    "### Question 10\n",
    "Read an integer number between n 0 and 9 and print its multiplication table up to N\n",
    "where N is another another natural number read by the program.\n"
   ]
  },
  {
   "cell_type": "code",
   "execution_count": 114,
   "id": "eef0702e-6c2e-4e2a-a1ef-0199d9a4986e",
   "metadata": {},
   "outputs": [
    {
     "name": "stdin",
     "output_type": "stream",
     "text": [
      "Enter a number between 0 and 9:  6\n",
      "Enter a natural number N:  67\n"
     ]
    },
    {
     "name": "stdout",
     "output_type": "stream",
     "text": [
      "Multiplication table for 6 up to 67:\n",
      "6 x 1 = 6\n",
      "6 x 2 = 12\n",
      "6 x 3 = 18\n",
      "6 x 4 = 24\n",
      "6 x 5 = 30\n",
      "6 x 6 = 36\n",
      "6 x 7 = 42\n",
      "6 x 8 = 48\n",
      "6 x 9 = 54\n",
      "6 x 10 = 60\n",
      "6 x 11 = 66\n",
      "6 x 12 = 72\n",
      "6 x 13 = 78\n",
      "6 x 14 = 84\n",
      "6 x 15 = 90\n",
      "6 x 16 = 96\n",
      "6 x 17 = 102\n",
      "6 x 18 = 108\n",
      "6 x 19 = 114\n",
      "6 x 20 = 120\n",
      "6 x 21 = 126\n",
      "6 x 22 = 132\n",
      "6 x 23 = 138\n",
      "6 x 24 = 144\n",
      "6 x 25 = 150\n",
      "6 x 26 = 156\n",
      "6 x 27 = 162\n",
      "6 x 28 = 168\n",
      "6 x 29 = 174\n",
      "6 x 30 = 180\n",
      "6 x 31 = 186\n",
      "6 x 32 = 192\n",
      "6 x 33 = 198\n",
      "6 x 34 = 204\n",
      "6 x 35 = 210\n",
      "6 x 36 = 216\n",
      "6 x 37 = 222\n",
      "6 x 38 = 228\n",
      "6 x 39 = 234\n",
      "6 x 40 = 240\n",
      "6 x 41 = 246\n",
      "6 x 42 = 252\n",
      "6 x 43 = 258\n",
      "6 x 44 = 264\n",
      "6 x 45 = 270\n",
      "6 x 46 = 276\n",
      "6 x 47 = 282\n",
      "6 x 48 = 288\n",
      "6 x 49 = 294\n",
      "6 x 50 = 300\n",
      "6 x 51 = 306\n",
      "6 x 52 = 312\n",
      "6 x 53 = 318\n",
      "6 x 54 = 324\n",
      "6 x 55 = 330\n",
      "6 x 56 = 336\n",
      "6 x 57 = 342\n",
      "6 x 58 = 348\n",
      "6 x 59 = 354\n",
      "6 x 60 = 360\n",
      "6 x 61 = 366\n",
      "6 x 62 = 372\n",
      "6 x 63 = 378\n",
      "6 x 64 = 384\n",
      "6 x 65 = 390\n",
      "6 x 66 = 396\n",
      "6 x 67 = 402\n"
     ]
    }
   ],
   "source": [
    "n = int(input(\"Enter a number between 0 and 9: \"))\n",
    "\n",
    "while n < 0 or n > 9:\n",
    "    n = int(input(\"Invalid input! Please enter a number between 0 and 9: \"))\n",
    "\n",
    "N = int(input(\"Enter a natural number N: \"))\n",
    "\n",
    "print(f\"Multiplication table for {n} up to {N}:\")\n",
    "for i in range(1, N + 1):\n",
    "    print(f\"{n} x {i} = {n * i}\")"
   ]
  },
  {
   "cell_type": "markdown",
   "id": "42ae4242-015b-41af-a542-07a47bd5217b",
   "metadata": {},
   "source": [
    "### Question 11\n",
    "Write a program that prints all the numbers between 0 and 40 that are multiples of 3, 7\n",
    "or 11."
   ]
  },
  {
   "cell_type": "code",
   "execution_count": 64,
   "id": "a06ed0b7-4d23-42a8-b18b-9277f54d4f38",
   "metadata": {},
   "outputs": [
    {
     "name": "stdout",
     "output_type": "stream",
     "text": [
      "3\n",
      "6\n",
      "7\n",
      "9\n",
      "11\n",
      "12\n",
      "14\n",
      "15\n",
      "18\n",
      "21\n",
      "22\n",
      "24\n",
      "27\n",
      "28\n",
      "30\n",
      "33\n",
      "35\n",
      "36\n",
      "39\n"
     ]
    }
   ],
   "source": [
    "for i in range(1, 40):\n",
    "    if i % 3 == 0 or i % 7 == 0 or i % 11 == 0:\n",
    "        print(i)"
   ]
  },
  {
   "cell_type": "markdown",
   "id": "137c30f8-02ff-48df-b96d-dc29d72ac093",
   "metadata": {},
   "source": [
    "### Question 12\n",
    "Write python code that prints the floor of a float x. Recall that the floor of a float x is the\n",
    "largest integer value less than or equal to x, i.e. if E[x] is the floor of x, then it satisfies,\n",
    "E[x] = 1 + E[x − 1]"
   ]
  },
  {
   "cell_type": "code",
   "execution_count": 78,
   "id": "3cbd540e-f61d-4958-9ba0-6725e7f9ea56",
   "metadata": {},
   "outputs": [
    {
     "name": "stdin",
     "output_type": "stream",
     "text": [
      "Please enter any real number(you can include decimal if you want):  6.5\n"
     ]
    },
    {
     "name": "stdout",
     "output_type": "stream",
     "text": [
      "6\n"
     ]
    }
   ],
   "source": [
    "import math\n",
    "num = float(input(\"Please enter any real number(you can include decimal if you want): \"))\n",
    "\n",
    "print(math.floor(num))"
   ]
  },
  {
   "cell_type": "markdown",
   "id": "9d450cc9-2dd6-4272-aafa-1e30e0e1687f",
   "metadata": {},
   "source": [
    "### Question 13\n",
    "Given a point in the plane by its Cartesian coordinates, determine in which quadrant it is\n",
    "(1st, 2nd, 3rd, 4th), if it lies on an axis, or if it is the origin. Do this for several points in\n",
    "the same execution of the program until the user quits."
   ]
  },
  {
   "cell_type": "code",
   "execution_count": 72,
   "id": "c034600a-e4d5-4952-b6eb-390c14f05e29",
   "metadata": {},
   "outputs": [
    {
     "name": "stdout",
     "output_type": "stream",
     "text": [
      "Thank you for playing!\n"
     ]
    }
   ],
   "source": [
    "game = input(\"Do you want to play today, Enter y/n: \")\n",
    "\n",
    "while game == \"y\":\n",
    "    x = int(input(\"Enter your X-coordinate: \"))\n",
    "    y = int(input(\"Enter your Y-coordinate\"))\n",
    "\n",
    "    coordinate = [x,y]\n",
    "\n",
    "    if coordinate[0] < 0 and coordinate[1] < 0:\n",
    "        print(\"Your point is in the 3rd quadrant\")\n",
    "    elif coordinate[0] > 0 and coordinate[1] > 0:\n",
    "        print(\"Your point is in the 1st quadrant\")\n",
    "    elif coordinate[0] < 0 and coordinate[1] > 0:\n",
    "        print(\"Your point is in the 4th quadrant\")\n",
    "    elif coordinate[0] > 0 and coordinate[1] < 0:\n",
    "        print(\"Your point is in the 2nd quadrant\")\n",
    "    else:\n",
    "        print(\"Your point is at the origin\")\n",
    "    game = input(\"Do you want to continue playing? Enter y/n: \")\n",
    "\n",
    "print(\"Thank you for playing!\")"
   ]
  },
  {
   "cell_type": "markdown",
   "id": "aed12238-5a1f-40ca-b5c9-c3451d36f757",
   "metadata": {},
   "source": [
    "### Question 14\n",
    "Ask for an integer number between 0 and 9, denoted x. Once the user has entered a correct\n",
    "number (that is one in the range [0..10)) the program asks for a second integer number\n",
    "between 0 and 255, denoted max. The program continues asking for the number until it\n",
    "is correct (that it is in the range [0..256)). When this is done, show all multiples of x that\n",
    "are between 0 and max. Then, ask the user whether he/she wants to continue; if in the\n",
    "affirmative, ask for another couple of numbers, otherwise finish."
   ]
  },
  {
   "cell_type": "code",
   "execution_count": 113,
   "id": "66d99fb5-271c-4c9e-b170-cb0a499eac70",
   "metadata": {},
   "outputs": [
    {
     "name": "stdin",
     "output_type": "stream",
     "text": [
      "Please enter a number between 0 and 9:  8\n",
      "Enter a number between 0 and 255:  244\n"
     ]
    },
    {
     "name": "stdout",
     "output_type": "stream",
     "text": [
      "[8, 16, 24, 32, 40, 48, 56, 64, 72, 80, 88, 96, 104, 112, 120, 128, 136, 144, 152, 160, 168, 176, 184, 192, 200, 208, 216, 224, 232, 240]\n"
     ]
    }
   ],
   "source": [
    "x = int(input(\"Please enter a number between 0 and 9: \"))\n",
    "\n",
    "while x < 0 or x > 9:\n",
    "    x = int(input(\"Incorrect! Please enter a number between 0 and 9: \"))\n",
    "\n",
    "max = int(input(\"Enter a number between 0 and 255: \"))\n",
    "\n",
    "while max < 0 or max > 255:\n",
    "    max = int(input(\"Incorrect! Enter a number between 0 and 255: \"))\n",
    "\n",
    "divisors = []\n",
    "\n",
    "for i in range(1, max+1):\n",
    "    if i % x == 0:\n",
    "        divisors.append(i)\n",
    "print(divisors)"
   ]
  }
 ],
 "metadata": {
  "kernelspec": {
   "display_name": "Python 3 (ipykernel)",
   "language": "python",
   "name": "python3"
  },
  "language_info": {
   "codemirror_mode": {
    "name": "ipython",
    "version": 3
   },
   "file_extension": ".py",
   "mimetype": "text/x-python",
   "name": "python",
   "nbconvert_exporter": "python",
   "pygments_lexer": "ipython3",
   "version": "3.12.6"
  }
 },
 "nbformat": 4,
 "nbformat_minor": 5
}
