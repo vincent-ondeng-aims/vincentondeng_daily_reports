{
 "cells": [
  {
   "cell_type": "markdown",
   "id": "76778c2a-263e-4cee-8ba5-85a4f3a1772d",
   "metadata": {},
   "source": [
    "### Question 5\n",
    "Given two numbers a0 and a1, the Fibonacci sequence they generate is constructed from\n",
    "the recursion formula an+1 = an + an−1. Calculate the first 15 terms of a Fibonacci\n",
    "sequence, asking the user the initial values."
   ]
  },
  {
   "cell_type": "code",
   "execution_count": 2,
   "id": "ed81d89c-07a2-4592-b974-bbe7ce78dd45",
   "metadata": {},
   "outputs": [
    {
     "name": "stdin",
     "output_type": "stream",
     "text": [
      "Enter the first term (a0):  23\n",
      "Enter the second term (a1):  45\n"
     ]
    },
    {
     "name": "stdout",
     "output_type": "stream",
     "text": [
      "The first 15 terms of the Fibonacci sequence are:\n",
      "[23, 45, 68, 113, 181, 294, 475, 769, 1244, 2013, 3257, 5270, 8527, 13797, 22324]\n"
     ]
    }
   ],
   "source": [
    "\n",
    "a0 = int(input(\"Enter the first term (a0): \"))\n",
    "a1 = int(input(\"Enter the second term (a1): \"))\n",
    "\n",
    "sequence = [a0, a1]\n",
    "\n",
    "for i in range(2, 15):\n",
    "    next_term = sequence[i - 1] + sequence[i - 2]  \n",
    "    sequence.append(next_term) \n",
    "\n",
    "print(\"The first 15 terms of the Fibonacci sequence are:\")\n",
    "print(sequence)\n"
   ]
  },
  {
   "cell_type": "markdown",
   "id": "d324f3cf-7aa4-42a5-9e5e-9602da049810",
   "metadata": {},
   "source": [
    "### Question 6\n",
    "Compute the first 30 terms of the sequence defined by 2xn+2 − xn+1 − 6xn = 0 sequence,\n",
    "given any two initial values x0 and x1"
   ]
  },
  {
   "cell_type": "code",
   "execution_count": 3,
   "id": "746c15dd-6997-461a-83c0-43c56f100b41",
   "metadata": {},
   "outputs": [
    {
     "name": "stdin",
     "output_type": "stream",
     "text": [
      "Enter the first term (x0):  23\n",
      "Enter the second term (x1):  45\n"
     ]
    },
    {
     "name": "stdout",
     "output_type": "stream",
     "text": [
      "The first 30 terms of the sequence are:\n",
      "[23.0, 45.0, 91.5, 180.75, 364.875, 724.6875, 1456.96875, 2902.546875, 5822.1796875, 11618.73046875, 23275.904296875, 46494.1435546875, 93074.78466796875, 186019.82299804688, 372234.2655029297, 744176.6017456055, 1488791.0973815918, 2976925.3539276123, 5954835.969108582, 11908194.046337128, 23818604.93049431, 47633884.60425854, 95272757.0936122, 190538032.3595817, 381087287.46062744, 762157740.8090589, 1524340732.7864118, 3048643588.820382, 6097343992.769426, 12194602762.84586]\n"
     ]
    }
   ],
   "source": [
    "x0 = float(input(\"Enter the first term (x0): \"))\n",
    "x1 = float(input(\"Enter the second term (x1): \"))\n",
    "\n",
    "sequence = [x0, x1]\n",
    "\n",
    "for i in range(2, 30):\n",
    "    next_term = (sequence[i - 1] + 6 * sequence[i - 2]) / 2  \n",
    "    sequence.append(next_term) \n",
    "\n",
    "print(\"The first 30 terms of the sequence are:\")\n",
    "print(sequence)\n"
   ]
  },
  {
   "cell_type": "markdown",
   "id": "c3f0d411-c122-4e25-ae33-48ba5f244975",
   "metadata": {},
   "source": [
    "### Question 7b\n",
    "Write the code using only logical operators, i.e. no conditional branching."
   ]
  },
  {
   "cell_type": "code",
   "execution_count": 7,
   "id": "cc7b4768-eb25-422b-9ea5-665301cacb0a",
   "metadata": {},
   "outputs": [
    {
     "name": "stdin",
     "output_type": "stream",
     "text": [
      "Enter a year:  3046\n"
     ]
    },
    {
     "name": "stdout",
     "output_type": "stream",
     "text": [
      "3046 is a leap year: False\n"
     ]
    }
   ],
   "source": [
    "year = int(input(\"Enter a year: \"))\n",
    "\n",
    "is_leap_year = (year % 4 == 0) and (year % 100 != 0) or (year % 400 == 0)\n",
    "\n",
    "print(f\"{year} is a leap year: {is_leap_year}\")\n"
   ]
  },
  {
   "cell_type": "markdown",
   "id": "f83f89d1-3d7e-42de-8fd2-1038ac8d8457",
   "metadata": {},
   "source": [
    "### Question 8b"
   ]
  },
  {
   "cell_type": "markdown",
   "id": "da2b3e76-b4f5-4f50-85b6-35ff69aebafb",
   "metadata": {},
   "source": [
    "Write python code that prints, for a natural number M, the smallest natural number\n",
    "n such that 1\n",
    "\n",
    "2 + 22 +· · ·+n\n",
    "\n",
    "2 ≥ M. One version with a \"for loop\" and another version\n",
    "\n",
    "with a \"while loop\"."
   ]
  },
  {
   "cell_type": "code",
   "execution_count": 4,
   "id": "75e35c66-9cb2-44f8-aaad-6a2c033c3711",
   "metadata": {},
   "outputs": [
    {
     "name": "stdin",
     "output_type": "stream",
     "text": [
      "Enter a natural number M:  45\n"
     ]
    },
    {
     "name": "stdout",
     "output_type": "stream",
     "text": [
      "The smallest natural number n such that 1^2 + 2^2 + ... + n^2 >= 45 is: 5\n"
     ]
    }
   ],
   "source": [
    "M = int(input(\"Enter a natural number M: \"))\n",
    "\n",
    "sum_of_squares = 0\n",
    "n = 0\n",
    "\n",
    "for i in range(1, M + 1):  \n",
    "    sum_of_squares += i**2  \n",
    "    if sum_of_squares >= M:\n",
    "        n = i  \n",
    "        break \n",
    "print(f\"The smallest natural number n such that 1^2 + 2^2 + ... + n^2 >= {M} is: {n}\")\n"
   ]
  },
  {
   "cell_type": "code",
   "execution_count": 5,
   "id": "921f3e63-2541-451a-892e-c298caf4c8d4",
   "metadata": {},
   "outputs": [
    {
     "name": "stdin",
     "output_type": "stream",
     "text": [
      "Enter a natural number M:  45\n"
     ]
    },
    {
     "name": "stdout",
     "output_type": "stream",
     "text": [
      "The smallest natural number n such that 1^2 + 2^2 + ... + n^2 >= 45 is: 5\n"
     ]
    }
   ],
   "source": [
    "M = int(input(\"Enter a natural number M: \"))\n",
    "\n",
    "sum_of_squares = 0\n",
    "n = 0\n",
    "\n",
    "while sum_of_squares < M:\n",
    "    n += 1  # Increment n\n",
    "    sum_of_squares += n**2  # Add the square of n to the sum\n",
    "\n",
    "print(f\"The smallest natural number n such that 1^2 + 2^2 + ... + n^2 >= {M} is: {n}\")\n"
   ]
  },
  {
   "cell_type": "markdown",
   "id": "c330c267-4b7c-4f6a-b2ea-2cf7be6e0262",
   "metadata": {},
   "source": [
    "### Question 9b"
   ]
  },
  {
   "cell_type": "code",
   "execution_count": 1,
   "id": "ad2ad57d-cb3d-4604-b2e3-ddfa04028c8e",
   "metadata": {},
   "outputs": [
    {
     "name": "stdin",
     "output_type": "stream",
     "text": [
      "Enter an integer number greater than 1:  120\n"
     ]
    },
    {
     "name": "stdout",
     "output_type": "stream",
     "text": [
      "Prime factors: [2, 2, 2, 3, 5]\n"
     ]
    }
   ],
   "source": [
    "\n",
    "num = int(input(\"Enter an integer number greater than 1: \"))\n",
    "\n",
    "\n",
    "prime_factors = []\n",
    "\n",
    "\n",
    "i = 2  # Start checking from the smallest prime number\n",
    "while num > 1:\n",
    "   \n",
    "    while num % i == 0:\n",
    "        prime_factors.append(i)  \n",
    "        num //= i  \n",
    "    i += 1  \n",
    "\n",
    "\n",
    "print(\"Prime factors:\", prime_factors)"
   ]
  }
 ],
 "metadata": {
  "kernelspec": {
   "display_name": "Python 3 (ipykernel)",
   "language": "python",
   "name": "python3"
  },
  "language_info": {
   "codemirror_mode": {
    "name": "ipython",
    "version": 3
   },
   "file_extension": ".py",
   "mimetype": "text/x-python",
   "name": "python",
   "nbconvert_exporter": "python",
   "pygments_lexer": "ipython3",
   "version": "3.12.6"
  }
 },
 "nbformat": 4,
 "nbformat_minor": 5
}
