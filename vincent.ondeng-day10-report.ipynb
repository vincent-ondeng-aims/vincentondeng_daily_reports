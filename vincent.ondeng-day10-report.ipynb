{
 "cells": [
  {
   "cell_type": "markdown",
   "id": "946dcae8",
   "metadata": {},
   "source": [
    "# Practical_6: Numpy"
   ]
  },
  {
   "cell_type": "markdown",
   "id": "8d742cf1-b3cc-4f6b-8345-856a6c01bac5",
   "metadata": {},
   "source": [
    "---"
   ]
  },
  {
   "cell_type": "code",
   "execution_count": 1,
   "id": "371a08a9-3760-41b2-8f1f-04065debca6d",
   "metadata": {},
   "outputs": [],
   "source": [
    "import numpy as np"
   ]
  },
  {
   "cell_type": "markdown",
   "id": "b30a697c-dec1-4f97-95a2-9b6346496512",
   "metadata": {},
   "source": [
    "### Exercise 1:\n",
    "Create a NumPy array of integers from 1 to 10.\n",
    "\n",
    "```python\n",
    "# Exercise 1\n",
    "```\n",
    "\n",
    "---"
   ]
  },
  {
   "cell_type": "code",
   "execution_count": 13,
   "id": "42825b7a-5e84-4a1e-a924-da32f1e2e8b2",
   "metadata": {},
   "outputs": [
    {
     "name": "stdout",
     "output_type": "stream",
     "text": [
      "[ 0  1  2  3  4  5  6  7  8  9 10]\n"
     ]
    }
   ],
   "source": [
    "a = np.arange(11)\n",
    "print(a)"
   ]
  },
  {
   "cell_type": "markdown",
   "id": "ece77754-e35f-40c5-be1e-d24dc256bea5",
   "metadata": {},
   "source": [
    "### Exercise 2:\n",
    "Create a 3x3 NumPy array filled with zeros.\n",
    "\n",
    "```python\n",
    "# Exercise 2\n",
    "```\n",
    "\n",
    "---"
   ]
  },
  {
   "cell_type": "code",
   "execution_count": 6,
   "id": "2bbc3df8-3909-4599-ac43-1f7429e50ee4",
   "metadata": {},
   "outputs": [
    {
     "name": "stdout",
     "output_type": "stream",
     "text": [
      "[[0. 0. 0.]\n",
      " [0. 0. 0.]\n",
      " [0. 0. 0.]]\n"
     ]
    }
   ],
   "source": [
    "b = np.zeros((3,3))\n",
    "print(b)"
   ]
  },
  {
   "cell_type": "markdown",
   "id": "38c18246-41d3-4439-a189-442e9f4dec9e",
   "metadata": {},
   "source": [
    "### Exercise 3:\n",
    "Create a NumPy array of 10 evenly spaced numbers between 0 and 5.\n",
    "\n",
    "```python\n",
    "# Exercise 3\n",
    "```\n",
    "\n",
    "---"
   ]
  },
  {
   "cell_type": "code",
   "execution_count": 8,
   "id": "e5aeb0ca-196e-43d4-b92d-e46e47885143",
   "metadata": {},
   "outputs": [
    {
     "name": "stdout",
     "output_type": "stream",
     "text": [
      "[0.         0.55555556 1.11111111 1.66666667 2.22222222 2.77777778\n",
      " 3.33333333 3.88888889 4.44444444 5.        ]\n"
     ]
    }
   ],
   "source": [
    "d = np.linspace(0, 5, 10)\n",
    "print(d)"
   ]
  },
  {
   "cell_type": "markdown",
   "id": "dfac3f8c-4dbb-44e0-82a8-f3b2c3967b99",
   "metadata": {},
   "source": [
    "### Exercise 4:\n",
    "Create a 5x5 identity matrix using NumPy.\n",
    "\n",
    "```python\n",
    "# Exercise 4\n",
    "```\n",
    "\n",
    "---"
   ]
  },
  {
   "cell_type": "code",
   "execution_count": 7,
   "id": "853af1ed-fd4b-4f7e-bdd1-e782a927753f",
   "metadata": {},
   "outputs": [
    {
     "name": "stdout",
     "output_type": "stream",
     "text": [
      "[[1. 0. 0. 0. 0.]\n",
      " [0. 1. 0. 0. 0.]\n",
      " [0. 0. 1. 0. 0.]\n",
      " [0. 0. 0. 1. 0.]\n",
      " [0. 0. 0. 0. 1.]]\n"
     ]
    }
   ],
   "source": [
    "c = np.eye(5)\n",
    "print(c)"
   ]
  },
  {
   "cell_type": "markdown",
   "id": "7e399187-430c-4222-9f4c-9b3ee3608605",
   "metadata": {},
   "source": [
    "### Exercise 5:\n",
    "Create a 4x4 matrix with random values between 0 and 1.\n",
    "\n",
    "```python\n",
    "# Exercise 5\n",
    "```\n",
    "\n",
    "---"
   ]
  },
  {
   "cell_type": "code",
   "execution_count": 11,
   "id": "803cfb7f-4dec-4cab-ab3f-2345e37eac0a",
   "metadata": {},
   "outputs": [
    {
     "name": "stdout",
     "output_type": "stream",
     "text": [
      "[[0.88635397 0.6431869  0.27944565 0.77120177]\n",
      " [0.48617993 0.63641537 0.77538315 0.93340333]\n",
      " [0.3465525  0.61137264 0.0530244  0.69834141]\n",
      " [0.11148413 0.45242488 0.76736089 0.22382984]]\n"
     ]
    }
   ],
   "source": [
    "e = np.random.random((4,4),)\n",
    "print(e)"
   ]
  },
  {
   "cell_type": "markdown",
   "id": "98df54de-9bd0-4ab0-9879-1b7bff15b744",
   "metadata": {},
   "source": [
    "### Exercise 6:\n",
    "Find the shape of a NumPy array.\n",
    "\n",
    "```python\n",
    "# Exercise 6\n",
    "```\n",
    "\n",
    "---"
   ]
  },
  {
   "cell_type": "code",
   "execution_count": 12,
   "id": "a22cfa07-4806-4f33-8ed6-fe478dfe8ffa",
   "metadata": {},
   "outputs": [
    {
     "name": "stdout",
     "output_type": "stream",
     "text": [
      "(4, 4)\n"
     ]
    }
   ],
   "source": [
    "print (e.shape)"
   ]
  },
  {
   "cell_type": "markdown",
   "id": "f6b9eb30-649a-492b-a069-a399253d63fc",
   "metadata": {},
   "source": [
    "### Exercise 7:\n",
    "Reshape a 1D NumPy array of 16 elements into a 4x4 matrix.\n",
    "\n",
    "```python\n",
    "# Exercise 7\n",
    "```\n",
    "\n",
    "---"
   ]
  },
  {
   "cell_type": "code",
   "execution_count": 18,
   "id": "4c31d2dd-682f-4be2-8d2a-04220de5edb4",
   "metadata": {},
   "outputs": [
    {
     "name": "stdout",
     "output_type": "stream",
     "text": [
      "[[ 0  1  2  3]\n",
      " [ 4  5  6  7]\n",
      " [ 8  9 10 11]\n",
      " [12 13 14 15]]\n"
     ]
    }
   ],
   "source": [
    "x = np.arange(16).reshape(4,4)\n",
    "print(x)"
   ]
  },
  {
   "cell_type": "markdown",
   "id": "95f6dcce-17a9-493b-b4d1-77d2bc9e6a8d",
   "metadata": {},
   "source": [
    "### Exercise 8:\n",
    "Find the data type of the elements in a NumPy array.\n",
    "\n",
    "```python\n",
    "# Exercise 8\n",
    "```\n",
    "\n",
    "---"
   ]
  },
  {
   "cell_type": "code",
   "execution_count": 20,
   "id": "684d9dd3-f7a3-416c-88c9-89ba680bfb97",
   "metadata": {},
   "outputs": [
    {
     "name": "stdout",
     "output_type": "stream",
     "text": [
      "[[0.87975547 0.45302149 0.05473281 0.64844692]\n",
      " [0.55726616 0.77986523 0.01079663 0.71474493]\n",
      " [0.46766702 0.07679859 0.66049275 0.64219108]\n",
      " [0.20011684 0.34952399 0.44002053 0.6677362 ]]\n",
      "<class 'numpy.ndarray'>\n"
     ]
    }
   ],
   "source": [
    "e = np.random.random((4,4),)\n",
    "print(e)\n",
    "print(type(e))"
   ]
  },
  {
   "cell_type": "markdown",
   "id": "bacb9d07-c5bb-41f9-905a-9e98d3bddb79",
   "metadata": {},
   "source": [
    "### Exercise 9:\n",
    "Create a NumPy array of integers from 1 to 100 and find all even numbers in the array.\n",
    "\n",
    "```python\n",
    "# Exercise 9\n",
    "```\n",
    "\n",
    "---"
   ]
  },
  {
   "cell_type": "code",
   "execution_count": 24,
   "id": "3d0aaf67-5fc7-46dc-95ca-8b8a6b0db418",
   "metadata": {},
   "outputs": [
    {
     "name": "stdout",
     "output_type": "stream",
     "text": [
      "[array([  2,   4,   6,   8,  10,  12,  14,  16,  18,  20,  22,  24,  26,\n",
      "        28,  30,  32,  34,  36,  38,  40,  42,  44,  46,  48,  50,  52,\n",
      "        54,  56,  58,  60,  62,  64,  66,  68,  70,  72,  74,  76,  78,\n",
      "        80,  82,  84,  86,  88,  90,  92,  94,  96,  98, 100])]\n"
     ]
    }
   ],
   "source": [
    "numbers = np.arange(1,101)\n",
    "num = [numbers[numbers % 2 == 0]]\n",
    "print(num)"
   ]
  },
  {
   "cell_type": "markdown",
   "id": "5b59b73a-964a-4a74-94d7-267468ebeb16",
   "metadata": {},
   "source": [
    "### Exercise 10:\n",
    "Generate a 6x6 matrix of random integers between 10 and 50.\n",
    "\n",
    "```python\n",
    "# Exercise 10\n",
    "```\n",
    "\n",
    "---"
   ]
  },
  {
   "cell_type": "code",
   "execution_count": 36,
   "id": "c0436f87-b347-4780-b697-9fd628755365",
   "metadata": {},
   "outputs": [
    {
     "name": "stdout",
     "output_type": "stream",
     "text": [
      "[[34 36 42 37 39 31]\n",
      " [46 37 13 31 26 28]\n",
      " [32 21 40 40 33 33]\n",
      " [40 21 35 45 31 43]\n",
      " [10 29 21 31 46 41]\n",
      " [12 30 47 44 12 28]]\n"
     ]
    }
   ],
   "source": [
    "f = np.random.randint(10,50,size=(6,6))\n",
    "print(f)"
   ]
  },
  {
   "cell_type": "markdown",
   "id": "f4b99a3e-e6ce-4455-ab88-109e9613d29b",
   "metadata": {},
   "source": [
    "### Exercise 11:\n",
    "Slice a 2D NumPy array to extract a submatrix.\n",
    "\n",
    "```python\n",
    "# Exercise 11\n",
    "```\n",
    "\n",
    "---"
   ]
  },
  {
   "cell_type": "code",
   "execution_count": 33,
   "id": "8d39bf31-7a97-486f-a5cd-99279afa2047",
   "metadata": {},
   "outputs": [
    {
     "name": "stdout",
     "output_type": "stream",
     "text": [
      "[[0 5 1 2]\n",
      " [8 6 0 0]\n",
      " [2 1 3 6]]\n",
      "[[0 5]\n",
      " [8 6]]\n"
     ]
    }
   ],
   "source": [
    "x2 = np.random.randint(10, size=(3, 4))\n",
    "print(x2)\n",
    "\n",
    "x3 = x2[:2,:2]\n",
    "print(x3)"
   ]
  },
  {
   "cell_type": "markdown",
   "id": "423837d7-48c6-4ad9-82ff-c41e119bb930",
   "metadata": {},
   "source": [
    "### Exercise 12:\n",
    "Calculate the sum of all elements in a NumPy array.\n",
    "\n",
    "```python\n",
    "# Exercise 12\n",
    "```\n",
    "\n",
    "---"
   ]
  },
  {
   "cell_type": "code",
   "execution_count": 42,
   "id": "3a7e57ae-e1e8-4ffc-8183-c95fa117ac31",
   "metadata": {},
   "outputs": [
    {
     "name": "stdout",
     "output_type": "stream",
     "text": [
      "[0 1 2 3 4 5 6 7 8 9]\n",
      "45\n"
     ]
    }
   ],
   "source": [
    "j = np.arange(10)\n",
    "r = np.sum(j)\n",
    "print(j)\n",
    "print(r)"
   ]
  },
  {
   "cell_type": "markdown",
   "id": "c5f0b99d-9e9d-40c8-8e70-d72fc3127a83",
   "metadata": {},
   "source": [
    "### Exercise 13:\n",
    "Calculate the mean, median, and standard deviation of a NumPy array.\n",
    "\n",
    "```python\n",
    "# Exercise 13\n",
    "```\n",
    "\n",
    "---"
   ]
  },
  {
   "cell_type": "code",
   "execution_count": 45,
   "id": "8e7d74ee-5221-4e1c-be38-ccc04ff88693",
   "metadata": {},
   "outputs": [
    {
     "name": "stdout",
     "output_type": "stream",
     "text": [
      "[ 4 17  7  2  5  6  2 13  2 16 13 13  3 11 13]\n",
      "8.466666666666667\n",
      "7.0\n",
      "5.251877970994968\n"
     ]
    }
   ],
   "source": [
    "g = np.random.randint(20, size=15)\n",
    "print(g)\n",
    "\n",
    "mean = np.mean(g)\n",
    "median = np.median(g)\n",
    "s_deviation = np.std(g)\n",
    "\n",
    "print(mean)\n",
    "print(median)\n",
    "print(s_deviation)"
   ]
  },
  {
   "cell_type": "markdown",
   "id": "af4af48a-db6d-4abe-ad34-907fcdacf7de",
   "metadata": {},
   "source": [
    "### Exercise 14:\n",
    "Find the maximum and minimum values in a NumPy array.\n",
    "\n",
    "```python\n",
    "# Exercise 14\n",
    "```\n",
    "\n",
    "---"
   ]
  },
  {
   "cell_type": "code",
   "execution_count": 51,
   "id": "16db9413-b0f5-4cfd-a6e4-92c7cbdadaaa",
   "metadata": {},
   "outputs": [
    {
     "name": "stdout",
     "output_type": "stream",
     "text": [
      "[[1 8 8 6]\n",
      " [8 8 0 9]\n",
      " [1 9 7 0]]\n",
      "0 9\n"
     ]
    }
   ],
   "source": [
    "x2 = np.random.randint(10, size=(3, 4))\n",
    "print(x2)\n",
    "large = np.max(x2)\n",
    "small = np.min(x2)\n",
    "print(small, large)"
   ]
  },
  {
   "cell_type": "code",
   "execution_count": 73,
   "id": "1faf8e29-5cb4-4dab-b840-7db7b843432c",
   "metadata": {},
   "outputs": [
    {
     "name": "stdout",
     "output_type": "stream",
     "text": [
      "[[ 0  1  2  3]\n",
      " [ 4  5  6  7]\n",
      " [ 8  9 10 11]]\n",
      "[ 8  9 10 11]\n"
     ]
    }
   ],
   "source": [
    "h = np.arange(0,12).reshape(3,4)\n",
    "print(h)\n",
    "\n",
    "v = np.max(h,axis=0)\n",
    "print(v)"
   ]
  },
  {
   "cell_type": "markdown",
   "id": "1783beb1-38d1-4a3a-9d9e-cb819d1ed8fa",
   "metadata": {},
   "source": [
    "### Exercise 15:\n",
    "Create a NumPy array of 20 random integers and find the index of the maximum value.\n",
    "\n",
    "```python\n",
    "# Exercise 15\n",
    "```\n",
    "\n",
    "---"
   ]
  },
  {
   "cell_type": "code",
   "execution_count": 69,
   "id": "74c5f5d5-1c8d-49b2-99da-548f8fd1fd29",
   "metadata": {},
   "outputs": [
    {
     "name": "stdout",
     "output_type": "stream",
     "text": [
      "[0.01446135 0.34875214 0.90390449 0.56357638 0.96787455 0.20785595\n",
      " 0.20926349 0.89013402 0.27024314 0.25098082 0.77138134 0.77504277\n",
      " 0.92898763 0.16454008 0.08084863 0.25093879 0.44965017 0.50284239\n",
      " 0.58840402 0.50291887]\n",
      "4\n"
     ]
    }
   ],
   "source": [
    "k = np.random.random(20)\n",
    "g = np.argmax(k)\n",
    "print(k)\n",
    "print(g)"
   ]
  },
  {
   "cell_type": "markdown",
   "id": "3498daf1-3811-4dc4-9128-09fa4317f9af",
   "metadata": {},
   "source": [
    "### Exercise 16:\n",
    "Create a NumPy array and reverse its elements.\n",
    "\n",
    "```python\n",
    "# Exercise 16\n",
    "```\n",
    "\n",
    "---"
   ]
  },
  {
   "cell_type": "code",
   "execution_count": 77,
   "id": "9b4f44e6-07e3-44c6-a8b4-087422104e4c",
   "metadata": {},
   "outputs": [
    {
     "name": "stdout",
     "output_type": "stream",
     "text": [
      "[ 0  1  2  3  4  5  6  7  8  9 10]\n",
      "[10  9  8  7  6  5  4  3  2  1  0]\n"
     ]
    }
   ],
   "source": [
    "d = np.arange(11)\n",
    "print(d)\n",
    "e = np.flip(d)\n",
    "print(e)"
   ]
  },
  {
   "cell_type": "markdown",
   "id": "bf1b6911-0006-4a77-bc92-e108288d2592",
   "metadata": {},
   "source": [
    "### Exercise 17:\n",
    "Create a 3x3 matrix and multiply it element-wise by another 3x3 matrix.\n",
    "\n",
    "```python\n",
    "# Exercise 17\n",
    "```\n",
    "\n",
    "---"
   ]
  },
  {
   "cell_type": "code",
   "execution_count": 88,
   "id": "7b3566d9-efef-48cd-b3b9-b8b0b478e1e8",
   "metadata": {},
   "outputs": [
    {
     "name": "stdout",
     "output_type": "stream",
     "text": [
      "[[0 1 2]\n",
      " [3 4 5]\n",
      " [6 7 8]]\n",
      "[[0 1 2]\n",
      " [3 4 5]\n",
      " [6 7 8]]\n",
      "[[ 0  1  4]\n",
      " [ 9 16 25]\n",
      " [36 49 64]]\n"
     ]
    }
   ],
   "source": [
    "A = np.arange(9).reshape(3,3)\n",
    "print(A)\n",
    "B = np.arange(9).reshape(3,3)\n",
    "print(B)\n",
    "C = np.multiply(A, B)\n",
    "print(C)"
   ]
  },
  {
   "cell_type": "markdown",
   "id": "9cdc317b-9437-4d8c-94a4-f55943ccb65e",
   "metadata": {},
   "source": [
    "### Exercise 18:\n",
    "Create a diagonal matrix from a given 1D array.\n",
    "\n",
    "```python\n",
    "# Exercise 18\n",
    "```\n",
    "\n",
    "---"
   ]
  },
  {
   "cell_type": "code",
   "execution_count": 92,
   "id": "ef348c35-ac33-4948-92a3-f247a1f4747f",
   "metadata": {},
   "outputs": [
    {
     "name": "stdout",
     "output_type": "stream",
     "text": [
      "[0 1 2 3 4 5 6 7 8]\n",
      "[[0 0 0 0 0 0 0 0 0]\n",
      " [0 1 0 0 0 0 0 0 0]\n",
      " [0 0 2 0 0 0 0 0 0]\n",
      " [0 0 0 3 0 0 0 0 0]\n",
      " [0 0 0 0 4 0 0 0 0]\n",
      " [0 0 0 0 0 5 0 0 0]\n",
      " [0 0 0 0 0 0 6 0 0]\n",
      " [0 0 0 0 0 0 0 7 0]\n",
      " [0 0 0 0 0 0 0 0 8]]\n"
     ]
    }
   ],
   "source": [
    "S = np.arange(9)\n",
    "print(S)\n",
    "X = np.diag(S)\n",
    "print(X)"
   ]
  },
  {
   "cell_type": "markdown",
   "id": "f535cecf-7b44-4331-b5de-99ebbc189d6d",
   "metadata": {},
   "source": [
    "### Exercise 19:\n",
    "Perform matrix multiplication on two 2D NumPy arrays.\n",
    "\n",
    "```python\n",
    "# Exercise 19\n",
    "```\n",
    "\n",
    "---"
   ]
  },
  {
   "cell_type": "code",
   "execution_count": 96,
   "id": "c185f205-fe54-42c8-bed7-5f2d23c2b6b3",
   "metadata": {},
   "outputs": [
    {
     "name": "stdout",
     "output_type": "stream",
     "text": [
      "[[5 6 3 5]\n",
      " [8 0 4 4]\n",
      " [0 0 1 3]]\n",
      "[[9 1 3 8]\n",
      " [8 7 0 0]\n",
      " [4 3 3 3]]\n",
      "[[45  6  9 40]\n",
      " [64  0  0  0]\n",
      " [ 0  0  3  9]]\n"
     ]
    }
   ],
   "source": [
    "F = np.random.randint(10, size=(3, 4))\n",
    "print(F)\n",
    "E = np.random.randint(10, size=(3,4))\n",
    "print(E)\n",
    "\n",
    "G = np.multiply(F,E)\n",
    "print(G)"
   ]
  },
  {
   "cell_type": "markdown",
   "id": "b01c2f82-f397-49ad-b574-2739445ca749",
   "metadata": {},
   "source": [
    "### Exercise 20:\n",
    "Flatten a 2D NumPy array into a 1D array.\n",
    "\n",
    "```python\n",
    "# Exercise 20\n",
    "```\n",
    "\n",
    "---"
   ]
  },
  {
   "cell_type": "code",
   "execution_count": 103,
   "id": "c23f8af5-f567-4968-b73d-dac52816db7d",
   "metadata": {},
   "outputs": [
    {
     "name": "stdout",
     "output_type": "stream",
     "text": [
      "[[2 5 6 3]\n",
      " [9 0 3 2]\n",
      " [0 3 1 8]]\n",
      "[2 5 6 3 9 0 3 2 0 3 1 8]\n"
     ]
    }
   ],
   "source": [
    "T = np.random.randint(10, size=(3, 4))\n",
    "print(T)\n",
    "R = np.ndarray.flatten(T)\n",
    "print(R)"
   ]
  },
  {
   "cell_type": "code",
   "execution_count": 104,
   "id": "9d2773ec-11d4-4492-82a5-22603f705134",
   "metadata": {},
   "outputs": [
    {
     "data": {
      "text/plain": [
       "array([2, 5, 6, 3, 9, 0, 3, 2, 0, 3, 1, 8], dtype=int32)"
      ]
     },
     "execution_count": 104,
     "metadata": {},
     "output_type": "execute_result"
    }
   ],
   "source": [
    "T.flatten()"
   ]
  },
  {
   "cell_type": "markdown",
   "id": "5320e3c1-3a8a-4d2c-9a15-b5f90d15088e",
   "metadata": {},
   "source": [
    "### Exercise 21:\n",
    "Stack two NumPy arrays vertically.\n",
    "\n",
    "```python\n",
    "# Exercise 21\n",
    "```\n",
    "\n",
    "---"
   ]
  },
  {
   "cell_type": "code",
   "execution_count": 112,
   "id": "63307bba-93a7-4cec-b698-fc6ecf3ca7a6",
   "metadata": {},
   "outputs": [
    {
     "name": "stdout",
     "output_type": "stream",
     "text": [
      "[0 1 2 3 4 5 6 7]\n",
      "[0 1 2 3 4 5 6 7]\n",
      "[[0 1 2 3 4 5 6 7]\n",
      " [0 1 2 3 4 5 6 7]]\n"
     ]
    }
   ],
   "source": [
    "H = np.arange(8)\n",
    "print(H)\n",
    "\n",
    "J = np.arange(8)\n",
    "print(J)\n",
    "\n",
    "C = np.vstack((H,J))\n",
    "print(C)"
   ]
  },
  {
   "cell_type": "markdown",
   "id": "dd41bd93-1324-4f8a-80fd-053fe38cfbf8",
   "metadata": {},
   "source": [
    "### Exercise 22:\n",
    "Stack two NumPy arrays horizontally.\n",
    "\n",
    "```python\n",
    "# Exercise 22\n",
    "```\n",
    "\n",
    "---"
   ]
  },
  {
   "cell_type": "code",
   "execution_count": 113,
   "id": "fb704079-57d0-45c6-9b95-ff00465497da",
   "metadata": {},
   "outputs": [
    {
     "name": "stdout",
     "output_type": "stream",
     "text": [
      "[0 1 2 3 4 5 6 7]\n",
      "[0 1 2 3 4 5 6 7]\n",
      "[0 1 2 3 4 5 6 7 0 1 2 3 4 5 6 7]\n"
     ]
    }
   ],
   "source": [
    "H = np.arange(8)\n",
    "print(H)\n",
    "\n",
    "J = np.arange(8)\n",
    "print(J)\n",
    "\n",
    "C = np.hstack((H,J))\n",
    "print(C)"
   ]
  },
  {
   "cell_type": "markdown",
   "id": "d357923a-8d06-4eb7-971c-dd42dd177500",
   "metadata": {},
   "source": [
    "### Exercise 23:\n",
    "Split a NumPy array into multiple sub-arrays.\n",
    "\n",
    "```python\n",
    "# Exercise 23\n",
    "```\n",
    "\n",
    "---"
   ]
  },
  {
   "cell_type": "code",
   "execution_count": 117,
   "id": "bf9c0470-f442-4dbc-be98-3055f51a542d",
   "metadata": {},
   "outputs": [
    {
     "name": "stdout",
     "output_type": "stream",
     "text": [
      "[[4 3 3 7]\n",
      " [4 6 1 9]\n",
      " [8 5 0 8]]\n",
      "[array([[4, 3, 3, 7]], dtype=int32), array([[4, 6, 1, 9]], dtype=int32), array([[8, 5, 0, 8]], dtype=int32)]\n"
     ]
    }
   ],
   "source": [
    "T = np.random.randint(10, size=(3, 4))\n",
    "U = np.split(T,3)\n",
    "print(T)\n",
    "print(U)"
   ]
  },
  {
   "cell_type": "markdown",
   "id": "657c8a90-332c-43d4-b338-3739caac74df",
   "metadata": {},
   "source": [
    "### Exercise 24:\n",
    "Generate a random NumPy array and round each element to two decimal places.\n",
    "\n",
    "```python\n",
    "# Exercise 24\n",
    "```\n",
    "\n",
    "---"
   ]
  },
  {
   "cell_type": "code",
   "execution_count": 127,
   "id": "dc6d5381-1141-4625-bcd5-069442ac3af4",
   "metadata": {},
   "outputs": [
    {
     "name": "stdout",
     "output_type": "stream",
     "text": [
      "[[0.98980552 0.08095347 0.45565542]\n",
      " [0.74796489 0.4946173  0.09476353]\n",
      " [0.91960269 0.68176956 0.42313833]]\n",
      "[[0.99 0.08 0.46]\n",
      " [0.75 0.49 0.09]\n",
      " [0.92 0.68 0.42]]\n"
     ]
    }
   ],
   "source": [
    "T = np.random.random(9).reshape(3,3)\n",
    "print(T)\n",
    "X = np.round(T, 2)\n",
    "print(X)"
   ]
  },
  {
   "cell_type": "markdown",
   "id": "50a77503-6ec4-42a8-aa27-b8c9a8231d6e",
   "metadata": {},
   "source": [
    "### Exercise 25:\n",
    "Find the unique elements of a NumPy array.\n",
    "\n",
    "```python\n",
    "# Exercise 25\n",
    "```\n",
    "\n",
    "---"
   ]
  },
  {
   "cell_type": "code",
   "execution_count": 128,
   "id": "f753b400-5994-4551-a66e-b8031c4541e2",
   "metadata": {},
   "outputs": [
    {
     "name": "stdout",
     "output_type": "stream",
     "text": [
      "[[0 4 8 5]\n",
      " [8 7 7 8]\n",
      " [8 0 1 4]]\n",
      "[0 1 4 5 7 8]\n"
     ]
    }
   ],
   "source": [
    "T = np.random.randint(10, size=(3, 4))\n",
    "print(T)\n",
    "\n",
    "Z = np.unique(T)\n",
    "print(Z)"
   ]
  },
  {
   "cell_type": "markdown",
   "id": "fd753188-baea-47f5-b267-64a456ce9aa5",
   "metadata": {},
   "source": [
    "### Exercise 26:\n",
    "Replace all elements in a NumPy array that are less than a specific value with that value.\n",
    "\n",
    "```python\n",
    "# Exercise 26\n",
    "```\n",
    "\n",
    "---"
   ]
  },
  {
   "cell_type": "code",
   "execution_count": 49,
   "id": "c7fbca46-bec4-4cd4-bc31-7405e3803290",
   "metadata": {},
   "outputs": [
    {
     "name": "stdout",
     "output_type": "stream",
     "text": [
      "[[7.   7.   7.99]\n",
      " [7.   8.32 7.  ]\n",
      " [7.   7.   9.29]]\n"
     ]
    }
   ],
   "source": [
    "nums = np.array([[5.54, 3.38, 7.99],\n",
    "              [3.54, 8.32, 6.99],\n",
    "              [1.54, 2.39, 9.29]])\n",
    "\n",
    "n = 7.0\n",
    "\n",
    "X = np.where(nums < n, n, nums)\n",
    "print(X)"
   ]
  },
  {
   "cell_type": "markdown",
   "id": "a680d551-df20-48e8-9a40-6aa76c502e50",
   "metadata": {},
   "source": [
    "### Exercise 27:\n",
    "Find the cumulative sum of the elements in a NumPy array.\n",
    "\n",
    "```python\n",
    "# Exercise 27\n",
    "```\n",
    "\n",
    "---"
   ]
  },
  {
   "cell_type": "code",
   "execution_count": 5,
   "id": "bc3d0523-d9cf-466d-9732-38fba70c4989",
   "metadata": {},
   "outputs": [
    {
     "name": "stdout",
     "output_type": "stream",
     "text": [
      "[[5 8 6 9]\n",
      " [5 8 7 3]\n",
      " [8 0 2 9]]\n",
      "70\n",
      "[18 16 15 21]\n"
     ]
    }
   ],
   "source": [
    "T = np.random.randint(10, size=(3, 4))\n",
    "print(T)\n",
    "Q = np.sum(T)\n",
    "print(Q)\n",
    "R = np.sum(T,axis=0)\n",
    "print(R)"
   ]
  },
  {
   "cell_type": "markdown",
   "id": "612a9585-aab4-4c95-80aa-a888fea57244",
   "metadata": {},
   "source": [
    "### Exercise 28:\n",
    "Create a NumPy array and find the number of non-zero elements in it.\n",
    "\n",
    "```python\n",
    "# Exercise 28\n",
    "```\n",
    "\n",
    "---"
   ]
  },
  {
   "cell_type": "code",
   "execution_count": 8,
   "id": "a0178c7d-f0b3-475f-821c-d7efcab784e0",
   "metadata": {},
   "outputs": [
    {
     "name": "stdout",
     "output_type": "stream",
     "text": [
      "[[8 6 0 8]\n",
      " [8 4 0 8]\n",
      " [4 1 5 0]]\n",
      "[[0 0]\n",
      " [0 1]\n",
      " [0 3]\n",
      " [1 0]\n",
      " [1 1]\n",
      " [1 3]\n",
      " [2 0]\n",
      " [2 1]\n",
      " [2 2]]\n"
     ]
    }
   ],
   "source": [
    "T = np.random.randint(10, size=(3, 4))\n",
    "print(T)\n",
    "\n",
    "H = np.argwhere(T)\n",
    "print(H)"
   ]
  },
  {
   "cell_type": "markdown",
   "id": "b874a7d2-3fef-4bb1-b385-ffafdee793c9",
   "metadata": {},
   "source": [
    "### Exercise 29:\n",
    "Create a NumPy array of random integers and sort it in ascending order.\n",
    "\n",
    "```python\n",
    "# Exercise 29\n",
    "```\n",
    "\n",
    "---"
   ]
  },
  {
   "cell_type": "code",
   "execution_count": 9,
   "id": "f09ce472-5216-4a3a-a1a8-59df67079824",
   "metadata": {},
   "outputs": [
    {
     "name": "stdout",
     "output_type": "stream",
     "text": [
      "[[9 5 8 7]\n",
      " [1 2 1 7]\n",
      " [5 2 7 0]]\n",
      "[[5 7 8 9]\n",
      " [1 1 2 7]\n",
      " [0 2 5 7]]\n"
     ]
    }
   ],
   "source": [
    "T = np.random.randint(10, size=(3, 4))\n",
    "print(T)\n",
    "\n",
    "Y = np.sort(T)\n",
    "print(Y)"
   ]
  },
  {
   "cell_type": "markdown",
   "id": "a343ea61-b7d7-462b-91c9-32426f5b4bf5",
   "metadata": {},
   "source": [
    "### Exercise 30:\n",
    "Find the row-wise and column-wise sum of a 3x3 matrix.\n",
    "\n",
    "```python\n",
    "# Exercise 30\n",
    "```\n",
    "\n",
    "---"
   ]
  },
  {
   "cell_type": "code",
   "execution_count": 12,
   "id": "2552f90d-07eb-45f8-96e6-ed6fe2d25373",
   "metadata": {},
   "outputs": [
    {
     "name": "stdout",
     "output_type": "stream",
     "text": [
      "[[2 9 7]\n",
      " [1 1 1]\n",
      " [3 5 9]]\n",
      "[ 6 15 17]\n",
      "[18  3 17]\n"
     ]
    }
   ],
   "source": [
    "T = np.random.randint(10, size=(3, 4))\n",
    "print(T)\n",
    "\n",
    "D = np.sum(T, axis=0)    # Column wise sum\n",
    "print(D)\n",
    "\n",
    "K = np.sum(T, axis=1)    # Row wise sum\n",
    "print(K)"
   ]
  },
  {
   "cell_type": "markdown",
   "id": "7a931027-ee26-48d2-a884-7d98e453bea6",
   "metadata": {},
   "source": [
    "### Exercise 31:\n",
    "Generate a 2D NumPy array with random values and normalize it (scale the values between 0 and 1).\n",
    "\n",
    "```python\n",
    "# Exercise 31\n",
    "```\n",
    "\n",
    "---"
   ]
  },
  {
   "cell_type": "code",
   "execution_count": 14,
   "id": "d1a91ba0-4d3b-4b61-b50c-0f76b5956022",
   "metadata": {},
   "outputs": [
    {
     "name": "stdout",
     "output_type": "stream",
     "text": [
      "[[1 5 2 0]\n",
      " [2 1 9 7]\n",
      " [0 6 5 7]]\n",
      "16.583123951777\n",
      "[[0.06030227 0.30151134 0.12060454 0.        ]\n",
      " [0.12060454 0.06030227 0.54272042 0.42211588]\n",
      " [0.         0.36181361 0.30151134 0.42211588]]\n"
     ]
    }
   ],
   "source": [
    "T = np.random.randint(10, size=(3, 4))\n",
    "print(T)\n",
    "\n",
    "G = np.linalg.norm(T)\n",
    "print(G)\n",
    "\n",
    "norm_array = T / G\n",
    "\n",
    "print(norm_array)"
   ]
  },
  {
   "cell_type": "markdown",
   "id": "86fd266d-cbd0-47b9-90a0-f8324f770749",
   "metadata": {},
   "source": [
    "### Exercise 32:\n",
    "Create two NumPy arrays and find the dot product.\n",
    "\n",
    "```python\n",
    "# Exercise 32\n",
    "```\n",
    "\n",
    "---"
   ]
  },
  {
   "cell_type": "code",
   "execution_count": 17,
   "id": "eeb53707-33d1-4ea0-b7c0-ae0287e2e56c",
   "metadata": {},
   "outputs": [
    {
     "name": "stdout",
     "output_type": "stream",
     "text": [
      "[[8 2 0]\n",
      " [0 8 2]\n",
      " [5 7 0]]\n",
      "[[1 5 6]\n",
      " [6 3 2]\n",
      " [3 6 2]]\n",
      "[[20 46 52]\n",
      " [54 36 20]\n",
      " [47 46 44]]\n"
     ]
    }
   ],
   "source": [
    "T = np.random.randint(10, size=(3, 3))\n",
    "print(T)\n",
    "\n",
    "R = np.random.randint(10, size=(3, 3))\n",
    "print(R)\n",
    "\n",
    "F = np.dot(T,R)\n",
    "print(F)"
   ]
  },
  {
   "cell_type": "markdown",
   "id": "eb54f19a-616a-41a3-a5f2-9e58d5adf2c6",
   "metadata": {},
   "source": [
    "### Exercise 33:\n",
    "Find the trace of a square NumPy matrix.\n",
    "\n",
    "```python\n",
    "# Exercise 33\n",
    "```\n",
    "\n",
    "---"
   ]
  },
  {
   "cell_type": "code",
   "execution_count": 20,
   "id": "f503580b-eaa5-4d26-b8a8-88788fd7e929",
   "metadata": {},
   "outputs": [
    {
     "name": "stdout",
     "output_type": "stream",
     "text": [
      "[[8 7 2]\n",
      " [8 3 6]\n",
      " [8 7 8]]\n",
      "19\n"
     ]
    }
   ],
   "source": [
    "T = np.random.randint(10, size=(3, 3))\n",
    "print(T)\n",
    "\n",
    "O = np.trace(T)\n",
    "print(O)"
   ]
  },
  {
   "cell_type": "markdown",
   "id": "7ad2f0fd-e71d-4da4-8d8a-ef94d18df6d6",
   "metadata": {},
   "source": [
    "### Exercise 34:\n",
    "Create a 2D array and swap two rows.\n",
    "\n",
    "```python\n",
    "# Exercise 34\n",
    "```\n",
    "\n",
    "---"
   ]
  },
  {
   "cell_type": "code",
   "execution_count": 25,
   "id": "ac777ec8-abcd-41a3-88bd-ca7fe8c7a5d5",
   "metadata": {},
   "outputs": [
    {
     "name": "stdout",
     "output_type": "stream",
     "text": [
      "[[5 2 3]\n",
      " [7 5 7]\n",
      " [9 8 9]]\n",
      "[[9 8 9]\n",
      " [7 5 7]\n",
      " [5 2 3]]\n"
     ]
    }
   ],
   "source": [
    "T = np.random.randint(10, size=(3, 3))\n",
    "print(T)\n",
    "T[[0,2]] = T[[2,0]]    # Swap 0th row and 2nd row\n",
    "print(T)"
   ]
  },
  {
   "cell_type": "markdown",
   "id": "4fab28bf-01b7-43f8-abc6-0310200a01f0",
   "metadata": {},
   "source": [
    "### Exercise 35:\n",
    "Create a 1D NumPy array and convert it into a column vector.\n",
    "\n",
    "```python\n",
    "# Exercise 35\n",
    "```\n",
    "\n",
    "---"
   ]
  },
  {
   "cell_type": "code",
   "execution_count": 31,
   "id": "4cf27706-d09c-438b-95d1-9ecb69453c2a",
   "metadata": {},
   "outputs": [
    {
     "name": "stdout",
     "output_type": "stream",
     "text": [
      "[[10]\n",
      " [20]\n",
      " [30]\n",
      " [40]\n",
      " [50]]\n"
     ]
    }
   ],
   "source": [
    "arr = np.array([10, 20, 30, 40, 50])[np.newaxis]\n",
    "\n",
    "U = arr.T\n",
    "\n",
    "print(U)\n",
    "\n"
   ]
  },
  {
   "cell_type": "markdown",
   "id": "2f2b3f8a-085c-45c8-a760-a21a1fae61d9",
   "metadata": {},
   "source": [
    "### Exercise 36:\n",
    "Find the determinant of a 3x3 matrix.\n",
    "\n",
    "```python\n",
    "# Exercise 36\n",
    "```\n",
    "\n",
    "---"
   ]
  },
  {
   "cell_type": "code",
   "execution_count": 35,
   "id": "9d9af447-4bb5-4c1a-b480-e6003bb5649d",
   "metadata": {},
   "outputs": [
    {
     "name": "stdout",
     "output_type": "stream",
     "text": [
      "[[8 0 1]\n",
      " [3 6 7]\n",
      " [3 1 2]]\n",
      "25.000000000000007\n"
     ]
    }
   ],
   "source": [
    "T = np.random.randint(10, size=(3, 3))\n",
    "print(T)\n",
    "\n",
    "L = np.linalg.det(T)\n",
    "print(L)"
   ]
  },
  {
   "cell_type": "markdown",
   "id": "a5957bec-851f-437e-b201-04020c6f3437",
   "metadata": {},
   "source": [
    "### Exercise 37:\n",
    "Find the eigenvalues and eigenvectors of a 2x2 matrix.\n",
    "\n",
    "```python\n",
    "# Exercise 37\n",
    "```\n",
    "\n",
    "---"
   ]
  },
  {
   "cell_type": "code",
   "execution_count": 37,
   "id": "0fe98151-e838-4b32-b496-b7105847ba47",
   "metadata": {},
   "outputs": [
    {
     "name": "stdout",
     "output_type": "stream",
     "text": [
      "[[3 3]\n",
      " [0 1]]\n",
      "EigResult(eigenvalues=array([3., 1.]), eigenvectors=array([[ 1.        , -0.83205029],\n",
      "       [ 0.        ,  0.5547002 ]]))\n"
     ]
    }
   ],
   "source": [
    "T = np.random.randint(10, size=(2, 2))\n",
    "print(T)\n",
    "\n",
    "Q = np.linalg.eig(T)\n",
    "print(Q)"
   ]
  },
  {
   "cell_type": "markdown",
   "id": "8fa8a237-6f65-47dd-a865-2fe1967d35c1",
   "metadata": {},
   "source": [
    "### Exercise 38:\n",
    "Solve a system of linear equations using NumPy.\n",
    "\n",
    "```python\n",
    "# Exercise 38\n",
    "```\n",
    "\n",
    "---"
   ]
  },
  {
   "cell_type": "code",
   "execution_count": 42,
   "id": "753422fb-b248-486e-95de-71a1fc0d482b",
   "metadata": {},
   "outputs": [
    {
     "name": "stdout",
     "output_type": "stream",
     "text": [
      "[[3 6 7]\n",
      " [2 1 8]\n",
      " [1 3 7]]\n",
      "[10 11 22]\n",
      "[-9.63461538  2.42307692  3.48076923]\n"
     ]
    }
   ],
   "source": [
    "# 3x+6y+7z = 10, 2x+y+8z = 11 & x+3y+7z = 22: The set of linear equations to solve\n",
    "a = np.array([[3,6,7],\n",
    "              [2,1,8],\n",
    "              [1,3,7]])\n",
    "\n",
    "b = np.array([10,11,22])\n",
    "print(a)\n",
    "print(b)\n",
    "\n",
    "c = np.linalg.solve(a,b)\n",
    "print(c)"
   ]
  },
  {
   "cell_type": "markdown",
   "id": "6e7d81ac-6878-4567-acd5-e82ac2230f67",
   "metadata": {},
   "source": [
    "### Exercise 39:\n",
    "Add Gaussian noise to a NumPy array.\n",
    "\n",
    "```python\n",
    "# Exercise 39\n",
    "```\n",
    "\n",
    "---"
   ]
  },
  {
   "cell_type": "code",
   "execution_count": 45,
   "id": "4d4ad7ce-6e25-43d7-a4a2-1b529c19a6a2",
   "metadata": {},
   "outputs": [
    {
     "name": "stdout",
     "output_type": "stream",
     "text": [
      "[[8 3]\n",
      " [4 0]]\n",
      "4.167254793705503\n",
      "[[12.16725479  7.16725479]\n",
      " [ 8.16725479  4.16725479]]\n"
     ]
    }
   ],
   "source": [
    "T = np.random.randint(10, size=(2, 2))\n",
    "print(T)\n",
    "\n",
    "noise = np.random.normal(2)\n",
    "print(noise)\n",
    "\n",
    "arra = T + noise\n",
    "print(arra)"
   ]
  },
  {
   "cell_type": "markdown",
   "id": "d156da99-239b-49a5-a767-404d66c09444",
   "metadata": {},
   "source": [
    "### Exercise 40:\n",
    "Create a 4x4 matrix and extract the diagonal elements.\n",
    "\n",
    "```python\n",
    "# Exercise 40\n",
    "```\n",
    "\n",
    "---"
   ]
  },
  {
   "cell_type": "code",
   "execution_count": 47,
   "id": "637913b9-01df-4d6a-8d7f-3c6ddb6ca7af",
   "metadata": {},
   "outputs": [
    {
     "name": "stdout",
     "output_type": "stream",
     "text": [
      "[[1 0 5 5]\n",
      " [3 6 6 4]\n",
      " [8 3 7 1]\n",
      " [7 7 1 4]]\n",
      "[1 6 7 4]\n"
     ]
    }
   ],
   "source": [
    "T = np.random.randint(10, size=(4, 4))\n",
    "print(T)\n",
    "\n",
    "diag = np.diag(T, k=0)\n",
    "print(diag)"
   ]
  },
  {
   "cell_type": "markdown",
   "id": "b2360580-36a0-41da-96c7-70e09998a50d",
   "metadata": {},
   "source": [
    "### Exercise 41:\n",
    "Generate a NumPy array of 100 random values and clip the values to a range between 10 and 50.\n",
    "\n",
    "```python\n",
    "# Exercise 41\n",
    "```\n",
    "\n",
    "---\n",
    "\n",
    "### Exercise 42:\n",
    "Create a 2D NumPy array and replace all negative values with zero.\n",
    "\n",
    "```python\n",
    "# Exercise 42\n",
    "```\n",
    "\n",
    "---\n",
    "\n",
    "### Exercise 43:\n",
    "Find the inner and outer products of two NumPy arrays.\n",
    "\n",
    "```python\n",
    "# Exercise 43\n",
    "```\n",
    "\n",
    "---\n",
    "\n",
    "### Exercise 44:\n",
    "Calculate the pairwise distances between points in a NumPy array.\n",
    "\n",
    "```python\n",
    "# Exercise 44\n",
    "```\n",
    "\n",
    "---\n",
    "\n",
    "### Exercise 45:\n",
    "Create a structured NumPy array with fields for `name`, `age`, and `height`.\n",
    "\n",
    "```python\n",
    "# Exercise 45\n",
    "```\n",
    "\n",
    "---\n",
    "\n",
    "### Exercise 46:\n",
    "Create a 5x5 matrix of random integers and count the occurrences of each unique value.\n",
    "\n",
    "```python\n",
    "# Exercise 46\n",
    "```\n",
    "\n",
    "---\n",
    "\n",
    "### Exercise 47:\n",
    "Generate a random 3x3 NumPy array and subtract the mean of each row from the corresponding row.\n",
    "\n",
    "```python\n",
    "# Exercise 47\n",
    "```\n",
    "\n",
    "---"
   ]
  },
  {
   "cell_type": "markdown",
   "id": "d63c8952-e5d2-4adb-9e9f-d7d3627faee0",
   "metadata": {},
   "source": [
    "### Exercise 48:\n",
    "Create a NumPy array of random integers and check if any of the values are greater than 50.\n",
    "\n",
    "```python\n",
    "# Exercise 48\n",
    "```\n",
    "\n",
    "---\n",
    "\n",
    "### Exercise 49:\n",
    "Calculate the moving average of a 1D NumPy array.\n",
    "\n",
    "```python\n",
    "# Exercise 49\n",
    "```\n",
    "\n",
    "---\n",
    "\n",
    "### Exercise 50:\n",
    "Find the Pearson correlation coefficient between two NumPy arrays.\n",
    "\n",
    "```python\n",
    "# Exercise 50\n",
    "```\n",
    "\n",
    "---\n",
    "\n",
    "### Exercise 51:\n",
    "Convert a NumPy array of radians to degrees.\n",
    "\n",
    "```python\n",
    "# Exercise 51\n",
    "```\n",
    "\n",
    "---\n",
    "\n",
    "### Exercise 52:\n",
    "Create a random NumPy array and compute its variance and standard deviation.\n",
    "\n",
    "```python\n",
    "# Exercise 52\n",
    "```\n",
    "\n",
    "---\n",
    "\n",
    "### Exercise 53:\n",
    "Create a 2D NumPy array and find the indices of the maximum values along each axis.\n",
    "\n",
    "```python\n",
    "# Exercise 53\n",
    "```\n",
    "\n",
    "---\n",
    "\n",
    "### Exercise 54:\n",
    "Compute the inverse of a 2x2 NumPy matrix.\n",
    "\n",
    "```python\n",
    "# Exercise 54\n",
    "```\n",
    "\n",
    "---\n",
    "\n",
    "### Exercise 55:\n",
    "Create a NumPy array of 10 random values and standardize it (mean 0, variance 1).\n",
    "\n",
    "```python\n",
    "# Exercise 55\n",
    "```\n",
    "\n",
    "---\n",
    "\n",
    "### Exercise 56:\n",
    "Perform element-wise addition and subtraction on two NumPy arrays.\n",
    "\n",
    "```python\n",
    "# Exercise 56\n",
    "```\n",
    "\n",
    "---\n",
    "\n",
    "### Exercise 57:\n",
    "Create a NumPy array of random values and find the maximum element's index.\n",
    "\n",
    "```python\n",
    "# Exercise 57\n",
    "```\n",
    "\n",
    "---\n",
    "\n",
    "### Exercise 58:\n",
    "Create a 3x3 NumPy array and rotate it by 90 degrees.\n",
    "\n",
    "```python\n",
    "# Exercise 58\n",
    "```\n",
    "\n",
    "---"
   ]
  },
  {
   "cell_type": "markdown",
   "id": "bb4ac459-10e7-4354-9eb4-1f65fd6551de",
   "metadata": {},
   "source": [
    "### Exercise 59:\n",
    "Compute the Frobenius norm of a matrix.\n",
    "\n",
    "```python\n",
    "# Exercise 59\n",
    "```\n",
    "\n",
    "---"
   ]
  },
  {
   "cell_type": "markdown",
   "id": "3e4900e0-6674-4795-a755-4306fee0dc4a",
   "metadata": {},
   "source": [
    "### Exercise 60:\n",
    "Create a 3D NumPy array and slice out a subarray.\n",
    "\n",
    "```python\n",
    "# Exercise 60\n",
    "```\n",
    "\n",
    "---"
   ]
  }
 ],
 "metadata": {
  "kernelspec": {
   "display_name": "Python 3 (ipykernel)",
   "language": "python",
   "name": "python3"
  },
  "language_info": {
   "codemirror_mode": {
    "name": "ipython",
    "version": 3
   },
   "file_extension": ".py",
   "mimetype": "text/x-python",
   "name": "python",
   "nbconvert_exporter": "python",
   "pygments_lexer": "ipython3",
   "version": "3.12.6"
  }
 },
 "nbformat": 4,
 "nbformat_minor": 5
}
