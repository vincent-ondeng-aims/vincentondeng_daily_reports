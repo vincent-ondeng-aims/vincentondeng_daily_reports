{
 "cells": [
  {
   "cell_type": "markdown",
   "metadata": {
    "colab_type": "text",
    "id": "view-in-github"
   },
   "source": [
    "<a href=\"https://colab.research.google.com/github/ai-technipreneurs/python_course_colab_notebooks/blob/main/06_Lecture06.ipynb\" target=\"_parent\"><img src=\"https://colab.research.google.com/assets/colab-badge.svg\" alt=\"Open In Colab\"/></a>"
   ]
  },
  {
   "cell_type": "markdown",
   "metadata": {
    "id": "3AXjhXMgNYgT"
   },
   "source": [
    "<center>\n",
    "    <a href=\"https://aims-senegal.org/\" ><img src=\"images/logoaimssn.jpeg\" style=\"float:left; max-width: 650px; display: inline\" alt=\"AIMS-SN\"/> </a>\n",
    "    </center>\n",
    "\n",
    "\n",
    "\n",
    "<center>\n",
    "    \n",
    "<a href=\"https://acas-yde.org/\" ><img src=\"images/logo-ACAS.jpg\" style=\"float:right; max-width: 250px; display: inline\" alt=\"ACAS\"/></a>\n",
    "    \n",
    "</center>\n"
   ]
  },
  {
   "cell_type": "markdown",
   "metadata": {
    "id": "2Z--8-dNNYgX"
   },
   "source": [
    "****\n",
    "\n",
    "# <center> <b> <span style=\"color:orange;\"> Python Proficiency for Scientific Computing and Data Science (PyPro-SCiDaS)  </span> </b></center>\n",
    "\n",
    "### <center> <b> <span style=\"color:green;\">An Initiation to Programming using Python (Init2Py) </span> </b></center>\n",
    "    \n"
   ]
  },
  {
   "cell_type": "markdown",
   "metadata": {
    "id": "dTPcdOC5NYgY"
   },
   "source": [
    "****\n",
    "\n",
    "# <center> <b> <span style=\"color:blue;\"> Lecture 6: Numpy </span> </b></center>\n",
    "\n",
    "<!--NAVIGATION-->\n",
    "<  [5.Functions, Modules & PAckages](05.Lecture05.ipynb)| [ToC](Index.ipynb) | [7.Matplotlib](07.Lecture07.ipynb)>\n",
    "\n",
    "****"
   ]
  },
  {
   "cell_type": "markdown",
   "metadata": {
    "id": "oM9UA_EPNYgY"
   },
   "source": [
    "<img src=\" numpy.gif\" alt=\"Vlad's Home Directory\" />"
   ]
  },
  {
   "cell_type": "markdown",
   "metadata": {
    "id": "52jDNyGsNYga"
   },
   "source": [
    "[The NumPy Reference](https://docs.scipy.org/doc/numpy/reference/)."
   ]
  },
  {
   "cell_type": "markdown",
   "metadata": {
    "id": "7J5-CSxANYga"
   },
   "source": [
    "\n",
    "### <left> <b> <span style=\"color:brown;\"> Objective: </span> </b></left>\n",
    "\n",
    "This lecture aims to introduce the core concepts of `NumPy`, a fundamental library for numerical computing in Python. We will explore how to create and manipulate multidimensional arrays, perform vectorized operations, and efficiently handle large datasets. By understanding these tools, you'll gain the ability to perform high-performance numerical computations and build the foundation for scientific computing and data analysis using `NumPy`.\n",
    "****"
   ]
  },
  {
   "cell_type": "markdown",
   "metadata": {
    "id": "lHhSox1fNYga"
   },
   "source": [
    "## What is NumPy?\n",
    "\n",
    "\n",
    "> **NumPy (Numerical Python)** is the core library for scientific computing in Python, that provide high-performance vector, matrix, and higher-dimensional data structures for Python. It is implemented in ``C`` and ``Fortran``. so when calculations are vectorized (formulated with vectors and matrices), the performance is very good. It provides a high-performance multidimensional array object, and tools for working with these arrays.\n",
    "\n",
    "\n",
    "> This library can be used for different functions in **Linear algebra, Matrix computations, Fourier Transforms**. Alongside Numpy is most suitable for performing basic numerical computations such as *mean, median, range*, etc.\n",
    "\n",
    "> It is an open source module of Python which provides fast mathematical computation on arrays and matrices. Since, arrays and matrices are an essential part of the Machine Learning ecosystem.\n",
    "\n",
    "> ``Machine learning`` uses vectors, and in that regard, Numpy can be used in all common classes of problem in Machine Learning. Example: **Classification, Regressoin, Clustering** etc.\n",
    "\n",
    "\n",
    "\n",
    "<img src=\"object.png\" alt=\"Vlad's Home Directory\" />"
   ]
  },
  {
   "cell_type": "markdown",
   "metadata": {
    "id": "LAjVSYiaNYga"
   },
   "source": [
    "## NumPy arrays\n",
    "\n",
    "At the core of the NumPy package, is the ``ndarray`` object. This encapsulates n-dimensional arrays of homogeneous data types, with many operations being performed in compiled code for performance.\n",
    "\n",
    "  \n",
    "  \n",
    "  A numpy array is a grid of values, all of the same type, and is indexed by a tuple of nonnegative integers. The number of dimensions is the *rank* of the array; the *shape* of an array is a tuple of integers giving the size of the array along each dimension.\n",
    "  \n",
    "  \n",
    "  <img src=\" 1d_array.png\" alt=\"Vlad's Home Directory\" />\n",
    "  \n",
    "Data manipulation in Python is nearly synonymous with NumPy array manipulation: even newer tools like Pandas are built around the NumPy array. This section will present several examples of using NumPy array manipulation to access data and subarrays, and to split, reshape, and join the arrays.   "
   ]
  },
  {
   "cell_type": "markdown",
   "metadata": {
    "id": "frS7l99KNYgc"
   },
   "source": [
    "\n",
    "There are a number of ways to initialize new numpy arrays, for example from\n",
    "\n",
    "* a Python list or tuples;\n",
    "* using functions that are dedicated to generating numpy arrays, such as arange, linspace, etc.;\n",
    "* reading data from files."
   ]
  },
  {
   "cell_type": "markdown",
   "metadata": {
    "id": "1ChUih_gNYgd"
   },
   "source": [
    "### To use numpy you need to import the module\n",
    "\n",
    "**Import conventions** : The recommended convention to import numpy is:"
   ]
  },
  {
   "cell_type": "code",
   "execution_count": 1,
   "metadata": {
    "id": "owA8V6UmNYgd"
   },
   "outputs": [],
   "source": [
    "import numpy as np"
   ]
  },
  {
   "cell_type": "markdown",
   "metadata": {
    "id": "JjjM6JElNYge"
   },
   "source": [
    "### From lists\n",
    "For example, to create new vector and matrix arrays from Python lists we can use the ``np.array`` function."
   ]
  },
  {
   "cell_type": "code",
   "execution_count": 2,
   "metadata": {
    "id": "aCN3bS2LNYge"
   },
   "outputs": [
    {
     "data": {
      "text/plain": [
       "array([1, 2, 3, 4])"
      ]
     },
     "execution_count": 2,
     "metadata": {},
     "output_type": "execute_result"
    }
   ],
   "source": [
    "# a vector: the argument to the array function is a Python list\n",
    "v = np.array([1,2,3,4])\n",
    "\n",
    "v"
   ]
  },
  {
   "cell_type": "code",
   "execution_count": 3,
   "metadata": {
    "id": "M4ZB2fdaNYgf"
   },
   "outputs": [
    {
     "name": "stdout",
     "output_type": "stream",
     "text": [
      "<class 'numpy.ndarray'>\n",
      "(3,)\n",
      "1 2 3\n",
      "[5 2 3]\n"
     ]
    }
   ],
   "source": [
    "a = np.array([1, 2, 3])   # Create a rank 1 array\n",
    "print(type(a))            # Prints \"<class 'numpy.ndarray'>\"\n",
    "print(a.shape)            # Prints \"(3,)\"\n",
    "print(a[0], a[1], a[2])   # Prints \"1 2 3\"\n",
    "a[0] = 5                  # Change an element of the array\n",
    "print(a)                  # Prints \"[5, 2, 3]\""
   ]
  },
  {
   "cell_type": "code",
   "execution_count": 4,
   "metadata": {
    "id": "OhlK79DPNYgf"
   },
   "outputs": [
    {
     "name": "stdout",
     "output_type": "stream",
     "text": [
      "(2, 3)\n",
      "1 2 4\n"
     ]
    }
   ],
   "source": [
    "b = np.array([[1,2,3],[4,5,6]])    # Create a rank 2 array\n",
    "print(b.shape)                     # Prints \"(2, 3)\"\n",
    "print(b[0, 0], b[0, 1], b[1, 0])   # Prints \"1 2 4\""
   ]
  },
  {
   "cell_type": "markdown",
   "metadata": {
    "id": "wQacYRXiNYgf"
   },
   "source": [
    "### Numpy also provides many functions to create arrays:"
   ]
  },
  {
   "cell_type": "code",
   "execution_count": 5,
   "metadata": {
    "id": "SKklcTG-NYgf",
    "scrolled": true
   },
   "outputs": [
    {
     "name": "stdout",
     "output_type": "stream",
     "text": [
      "-----------------------------------------------------------------------\n",
      "Evenly spaced: \n",
      "\n",
      "[0 1 2 3 4 5 6 7 8 9]\n",
      "\n",
      "\n",
      "[1 3 5 7]\n",
      "=========================================================================\n",
      "Spaced by number of points: \n",
      "\n",
      "[0.  0.2 0.4 0.6 0.8 1. ]\n",
      "\n",
      "\n",
      "[0.  0.2 0.4 0.6 0.8]\n",
      "=========================================================================\n",
      "Common arrays: \n",
      "\n",
      "[[0. 0.]\n",
      " [0. 0.]]\n",
      "\n",
      "\n",
      "[[1. 1.]]\n",
      "\n",
      "\n",
      "[[7 7]\n",
      " [7 7]]\n",
      "\n",
      "\n",
      "[[1. 0. 0. 0. 0. 0. 0. 0. 0. 0.]\n",
      " [0. 1. 0. 0. 0. 0. 0. 0. 0. 0.]\n",
      " [0. 0. 1. 0. 0. 0. 0. 0. 0. 0.]\n",
      " [0. 0. 0. 1. 0. 0. 0. 0. 0. 0.]\n",
      " [0. 0. 0. 0. 1. 0. 0. 0. 0. 0.]\n",
      " [0. 0. 0. 0. 0. 1. 0. 0. 0. 0.]\n",
      " [0. 0. 0. 0. 0. 0. 1. 0. 0. 0.]\n",
      " [0. 0. 0. 0. 0. 0. 0. 1. 0. 0.]\n",
      " [0. 0. 0. 0. 0. 0. 0. 0. 1. 0.]\n",
      " [0. 0. 0. 0. 0. 0. 0. 0. 0. 1.]]\n",
      "\n",
      "\n",
      "E= [[0.84853615 0.21991028]\n",
      " [0.78397046 0.07167995]]\n"
     ]
    }
   ],
   "source": [
    "import numpy as np\n",
    "\n",
    "\n",
    "print(\"-----------------------------------------------------------------------\")\n",
    "\n",
    "print(\"Evenly spaced: \\n\")\n",
    "\n",
    "a1 = np.arange(10) # 0 .. n-1  (!). Evenly spaced.\n",
    "print(a1)\n",
    "\n",
    "print(\"\\n\")\n",
    "\n",
    "b1 = np.arange(1, 9, 2) # start, end (exclusive), step.\n",
    "print(b1)\n",
    "\n",
    "\n",
    "print(\"=========================================================================\")\n",
    "\n",
    "print(\"Spaced by number of points: \\n\")\n",
    "\n",
    "\n",
    "c1 = np.linspace(0, 1, 6)   # start, end, num-points\n",
    "print(c1)\n",
    "\n",
    "\n",
    "print(\"\\n\")\n",
    "\n",
    "d1 = np.linspace(0, 1, 5, endpoint=False)\n",
    "print(d1)\n",
    "\n",
    "\n",
    "\n",
    "print(\"=========================================================================\")\n",
    "print(\"Common arrays: \\n\")\n",
    "\n",
    "\n",
    "a = np.zeros((2,2))   # Create an array of all zeros\n",
    "print(a)              # Prints \"[[ 0.  0.]\n",
    "                      #          [ 0.  0.]]\"\n",
    "print(\"\\n\")\n",
    "\n",
    "b = np.ones((1,2))    # Create an array of all ones\n",
    "print(b)              # Prints \"[[ 1.  1.]]\"\n",
    "\n",
    "print(\"\\n\")\n",
    "\n",
    "c = np.full((2,2), 7)  # Create a constant array\n",
    "print(c)               # Prints \"[[ 7.  7.]\n",
    "                       #          [ 7.  7.]]\"\n",
    "print(\"\\n\")\n",
    "\n",
    "d = np.eye(10)         # Create a 10x10 identity matrix\n",
    "print(d)              # Prints \"[[ 1.  0.]\n",
    "                      #          [ 0.  1.]]\"\n",
    "print(\"\\n\")\n",
    "\n",
    "e = np.random.random((2,2),)  # Create an array filled with random values\n",
    "print(\"E=\",e)                     # Might print \"[[ 0.91940167  0.08143941]\n",
    "                             #               [ 0.68744134  0.87236687]]\"\n",
    "\n",
    "\n",
    "\n"
   ]
  },
  {
   "cell_type": "markdown",
   "metadata": {
    "id": "xJIL3gTTNYgg"
   },
   "source": [
    "You can read about other methods of array creation [in the documentation](https://docs.scipy.org/doc/numpy/user/basics.creation.html#arrays-creation)."
   ]
  },
  {
   "cell_type": "markdown",
   "metadata": {
    "id": "7xQbdEi-NYgg"
   },
   "source": [
    "* * * *\n",
    "Exercise: **Creating arrays using functions**\n",
    "\n",
    "> Experiment with arange, linspace, ones, zeros, eye and diag.\n",
    "    Create different kinds of arrays with random numbers.\n",
    "    Try setting the seed before creating an array with random values.\n",
    "    Look at the function np.empty. What does it do? When might this be useful?\n",
    "\n",
    "* * * *"
   ]
  },
  {
   "cell_type": "markdown",
   "metadata": {
    "id": "lGe3GYTRNYgg"
   },
   "source": [
    "### NumPy Array Attributes\n",
    "\n",
    "Each array has attributes ``ndim`` (the number of dimensions), ``shape`` (the size of each dimension), and ``size`` (the total size of the array):"
   ]
  },
  {
   "cell_type": "code",
   "execution_count": 6,
   "metadata": {
    "id": "msQc0rx0NYgg"
   },
   "outputs": [],
   "source": [
    "import numpy as np\n",
    "np.random.seed(0)  # seed for reproducibility\n",
    "\n",
    "x1 = np.random.randint(10, size=6)  # One-dimensional array\n",
    "x2 = np.random.randint(10, size=(3, 4))  # Two-dimensional array\n",
    "x3 = np.random.randint(10, size=(4, 4, 5, 6))  # Three-dimensional array\n"
   ]
  },
  {
   "cell_type": "code",
   "execution_count": 7,
   "metadata": {
    "id": "W8EV8uyXNYgh"
   },
   "outputs": [
    {
     "name": "stdout",
     "output_type": "stream",
     "text": [
      "x3 ndim:  4\n",
      "x3 shape: (4, 4, 5, 6)\n",
      "x3 size:  480\n",
      "[[[[8 1 5 9 8 9]\n",
      "   [4 3 0 3 5 0]\n",
      "   [2 3 8 1 3 3]\n",
      "   [3 7 0 1 9 9]\n",
      "   [0 4 7 3 2 7]]\n",
      "\n",
      "  [[2 0 0 4 5 5]\n",
      "   [6 8 4 1 4 9]\n",
      "   [8 1 1 7 9 9]\n",
      "   [3 6 7 2 0 3]\n",
      "   [5 9 4 4 6 4]]\n",
      "\n",
      "  [[4 3 4 4 8 4]\n",
      "   [3 7 5 5 0 1]\n",
      "   [5 9 3 0 5 0]\n",
      "   [1 2 4 2 0 3]\n",
      "   [2 0 7 5 9 0]]\n",
      "\n",
      "  [[2 7 2 9 2 3]\n",
      "   [3 2 3 4 1 2]\n",
      "   [9 1 4 6 8 2]\n",
      "   [3 0 0 6 0 6]\n",
      "   [3 3 8 8 8 2]]]\n",
      "\n",
      "\n",
      " [[[3 2 0 8 8 3]\n",
      "   [8 2 8 4 3 0]\n",
      "   [4 3 6 9 8 0]\n",
      "   [8 5 9 0 9 6]\n",
      "   [5 3 1 8 0 4]]\n",
      "\n",
      "  [[9 6 5 7 8 8]\n",
      "   [9 2 8 6 6 9]\n",
      "   [1 6 8 8 3 2]\n",
      "   [3 6 3 6 5 7]\n",
      "   [0 8 4 6 5 8]]\n",
      "\n",
      "  [[2 3 9 7 5 3]\n",
      "   [4 5 3 3 7 9]\n",
      "   [9 9 7 3 2 3]\n",
      "   [9 7 7 5 1 2]\n",
      "   [2 8 1 5 8 4]]\n",
      "\n",
      "  [[0 2 5 5 0 8]\n",
      "   [1 1 0 3 8 8]\n",
      "   [4 4 0 9 3 7]\n",
      "   [3 2 1 1 2 1]\n",
      "   [4 2 5 5 5 2]]]\n",
      "\n",
      "\n",
      " [[[5 7 7 6 1 6]\n",
      "   [7 2 3 1 9 5]\n",
      "   [9 9 2 0 9 1]\n",
      "   [9 0 6 0 4 8]\n",
      "   [4 3 3 8 8 7]]\n",
      "\n",
      "  [[0 3 8 7 7 1]\n",
      "   [8 4 7 0 4 9]\n",
      "   [0 6 4 2 4 6]\n",
      "   [3 3 7 8 5 0]\n",
      "   [8 5 4 7 4 1]]\n",
      "\n",
      "  [[3 3 9 2 5 2]\n",
      "   [3 5 7 2 7 1]\n",
      "   [6 5 0 0 3 1]\n",
      "   [9 9 6 6 7 8]\n",
      "   [8 7 0 8 6 8]]\n",
      "\n",
      "  [[9 8 3 6 1 7]\n",
      "   [4 9 2 0 8 2]\n",
      "   [7 8 4 4 1 7]\n",
      "   [6 9 4 1 5 9]\n",
      "   [7 1 3 5 7 3]]]\n",
      "\n",
      "\n",
      " [[[6 6 7 9 1 9]\n",
      "   [6 0 3 8 4 1]\n",
      "   [4 5 0 3 1 4]\n",
      "   [4 4 0 0 8 4]\n",
      "   [6 9 3 3 2 1]]\n",
      "\n",
      "  [[2 1 3 4 1 1]\n",
      "   [0 7 8 4 3 5]\n",
      "   [6 3 2 9 8 1]\n",
      "   [4 0 8 3 9 5]\n",
      "   [5 1 7 8 6 4]]\n",
      "\n",
      "  [[7 3 5 3 6 4]\n",
      "   [7 3 0 5 9 3]\n",
      "   [7 5 5 8 0 8]\n",
      "   [3 6 9 3 2 7]\n",
      "   [0 3 0 3 6 1]]\n",
      "\n",
      "  [[9 2 9 4 9 1]\n",
      "   [3 2 4 9 7 4]\n",
      "   [9 4 1 2 7 2]\n",
      "   [3 9 7 6 6 2]\n",
      "   [3 6 0 8 0 7]]]]\n"
     ]
    }
   ],
   "source": [
    "print(\"x3 ndim: \", x3.ndim)\n",
    "print(\"x3 shape:\", x3.shape)\n",
    "print(\"x3 size: \", x3.size)\n",
    "print(x3)"
   ]
  },
  {
   "cell_type": "markdown",
   "metadata": {
    "id": "VQObFuSmNYgh"
   },
   "source": [
    "### Basic data types\n",
    "\n",
    "Different data-types allow us to store data more compactly in memory, but most of the time we simply work with floating point numbers. Note that, in the example above, NumPy auto-detects the data-type from the input."
   ]
  },
  {
   "cell_type": "code",
   "execution_count": 8,
   "metadata": {
    "id": "3gKaLn8ANYgh"
   },
   "outputs": [
    {
     "name": "stdout",
     "output_type": "stream",
     "text": [
      "int64\n",
      "float64\n"
     ]
    }
   ],
   "source": [
    "a = np.array([1, 2, 3])\n",
    "print(a.dtype)\n",
    "\n",
    "\n",
    "b = np.array([1., 2., 3.])\n",
    "print(b.dtype)\n"
   ]
  },
  {
   "cell_type": "code",
   "execution_count": 9,
   "metadata": {
    "id": "4trQmT-NNYgh"
   },
   "outputs": [
    {
     "ename": "SyntaxError",
     "evalue": "invalid syntax (3719805537.py, line 1)",
     "output_type": "error",
     "traceback": [
      "\u001b[1;36m  Cell \u001b[1;32mIn[9], line 1\u001b[1;36m\u001b[0m\n\u001b[1;33m    You can explicitly specify which data-type you want:\u001b[0m\n\u001b[1;37m        ^\u001b[0m\n\u001b[1;31mSyntaxError\u001b[0m\u001b[1;31m:\u001b[0m invalid syntax\n"
     ]
    }
   ],
   "source": [
    "You can explicitly specify which data-type you want:"
   ]
  },
  {
   "cell_type": "code",
   "execution_count": null,
   "metadata": {
    "id": "EDUAU9fENYgi"
   },
   "outputs": [],
   "source": [
    "c = np.array([1, 2, 3], dtype=float)\n",
    "print(c.dtype)"
   ]
  },
  {
   "cell_type": "markdown",
   "metadata": {
    "id": "ol1kftmJNYgi"
   },
   "source": [
    "Every numpy array is a grid of elements of the same type. Numpy provides a large set of numeric datatypes that you can use to construct arrays. Numpy tries to guess a datatype when you create an array, but functions that construct arrays usually also include an optional argument to explicitly specify the datatype. Here is a more example:"
   ]
  },
  {
   "cell_type": "code",
   "execution_count": null,
   "metadata": {
    "id": "FjVFoIbvNYgi"
   },
   "outputs": [],
   "source": [
    "import numpy as np\n",
    "\n",
    "x = np.array([1, 2])   # Let numpy choose the datatype\n",
    "print(x.dtype)         # Prints \"int64\"\n",
    "\n",
    "x = np.array([1.0, 2.0])   # Let numpy choose the datatype\n",
    "print(x.dtype)             # Prints \"float64\"\n",
    "\n",
    "x = np.array([1, 2], dtype=np.int64)   # Force a particular datatype\n",
    "print(x.dtype)                         # Prints \"int64\"\n"
   ]
  },
  {
   "cell_type": "markdown",
   "metadata": {
    "id": "QLkoXC_mNYgi"
   },
   "source": [
    "You can read all about numpy datatypes [in the documentation](https://docs.scipy.org/doc/numpy/reference/arrays.dtypes.html)."
   ]
  },
  {
   "cell_type": "code",
   "execution_count": null,
   "metadata": {
    "id": "wLUhcq4iNYgi"
   },
   "outputs": [],
   "source": []
  },
  {
   "cell_type": "code",
   "execution_count": null,
   "metadata": {
    "id": "8-7UskJbNYgi"
   },
   "outputs": [],
   "source": []
  },
  {
   "cell_type": "markdown",
   "metadata": {
    "id": "pnbYwFlHNYgj"
   },
   "source": [
    "### **What is the default data type ?**"
   ]
  },
  {
   "cell_type": "markdown",
   "metadata": {
    "id": "2JYwLzh3NYgj"
   },
   "source": [
    "There are also other types:\n",
    "    \n",
    " <img src=\"types.png\" alt=\"Vlad's Home Directory\" />\n",
    "    "
   ]
  },
  {
   "cell_type": "markdown",
   "metadata": {
    "id": "_neFjZHHNYgj"
   },
   "source": [
    "## Array Indexing: Accessing Elements/Subarrays\n",
    "\n",
    "\n",
    "Numpy offers several ways to index into arrays.\n",
    "\n",
    "**Slicing**: Similar to Python lists, numpy arrays can be sliced. Since arrays may be multidimensional, you must specify a slice for each dimension of the array:\n",
    "\n"
   ]
  },
  {
   "cell_type": "code",
   "execution_count": null,
   "metadata": {
    "id": "lxVFzkCqNYgj"
   },
   "outputs": [],
   "source": [
    "# Create the following rank 2 array with shape (3, 4)\n",
    "# [[ 1  2  3  4]\n",
    "#  [ 5  6  7  8]\n",
    "#  [ 9 10 11 12]]\n",
    "a = np.array([[1,2,3,4], [5,6,7,8], [9,10,11,12]])\n",
    "\n",
    "# Use slicing to pull out the subarray consisting of the first 2 rows\n",
    "# and columns 1 and 2; b is the following array of shape (2, 2):\n",
    "# [[2 3]\n",
    "#  [6 7]]\n",
    "b = a[:2, 1:3]\n",
    "\n",
    "print(a)\n",
    "\n",
    "print('--------------------------------------------------------------------------')\n",
    "\n",
    "print(b)\n",
    "\n",
    "print('--------------------------------------------------------------------------')\n",
    "\n",
    "\n",
    "# A slice of an array is a view into the same data, so modifying it\n",
    "# will modify the original array.\n",
    "print(a[0, 1])   # Prints \"2\"\n",
    "\n",
    "print('--------------------------------------------------------------------------')\n",
    "\n",
    "b[0, 0] = 77     # b[0, 0] is the same piece of data as a[0, 1]\n",
    "print(a[0, 1])   # Prints \"77\""
   ]
  },
  {
   "cell_type": "markdown",
   "metadata": {
    "id": "b50M6muqNYgj"
   },
   "source": [
    "You can also mix integer indexing with slice indexing. However, doing so will yield an array of lower rank than the original array."
   ]
  },
  {
   "cell_type": "code",
   "execution_count": null,
   "metadata": {
    "id": "56NLvuhENYgj"
   },
   "outputs": [],
   "source": [
    "import numpy as np\n",
    "\n",
    "# Create the following rank 2 array with shape (3, 4)\n",
    "# [[ 1  2  3  4]\n",
    "#  [ 5  6  7  8]\n",
    "#  [ 9 10 11 12]]\n",
    "a = np.array([[1,2,3,4], [5,6,7,8], [9,10,11,12]])\n",
    "\n",
    "# Two ways of accessing the data in the middle row of the array.\n",
    "# Mixing integer indexing with slices yields an array of lower rank,\n",
    "# while using only slices yields an array of the same rank as the\n",
    "# original array:\n",
    "row_r1 = a[1, :]    # Rank 1 view of the second row of a\n",
    "row_r2 = a[1:2, :]  # Rank 2 view of the second row of a\n",
    "print(row_r1, row_r1.shape)  # Prints \"[5 6 7 8] (4,)\"\n",
    "\n",
    "print('--------------------------------------------------------------------------')\n",
    "\n",
    "\n",
    "print(row_r2, row_r2.shape)  # Prints \"[[5 6 7 8]] (1, 4)\"\n",
    "\n",
    "# We can make the same distinction when accessing columns of an array:\n",
    "col_r1 = a[:, 1]\n",
    "col_r2 = a[:, 1:2]\n",
    "print(col_r1, col_r1.shape)  # Prints \"[ 2  6 10] (3,)\"\n",
    "\n",
    "print('--------------------------------------------------------------------------')\n",
    "\n",
    "print(col_r2, col_r2.shape)  # Prints \"[[ 2]\n",
    "                             #          [ 6]\n",
    "                             #          [10]] (3, 1)\"\n"
   ]
  },
  {
   "cell_type": "markdown",
   "metadata": {
    "id": "DtQUOfDoNYgj"
   },
   "source": [
    "### Reshaping of Arrays\n",
    "\n",
    "Another useful type of operation is reshaping of arrays. The most flexible way of doing this is with the ``reshape`` method. For example, if you want to put the numbers 1 through 9 in a $3 \\times 3$ grid, you can do the following:"
   ]
  },
  {
   "cell_type": "code",
   "execution_count": null,
   "metadata": {
    "id": "9WQVALjpNYgj"
   },
   "outputs": [],
   "source": [
    "grid = np.arange(1, 10).reshape((3, 3))\n",
    "print(grid)"
   ]
  },
  {
   "cell_type": "markdown",
   "metadata": {
    "id": "941tPkseNYgj"
   },
   "source": [
    "Note that for this to work, the size of the initial array must match the size of the reshaped array. Tyr a few examples that you will create."
   ]
  },
  {
   "cell_type": "markdown",
   "metadata": {
    "id": "mTyXrj4sNYgl"
   },
   "source": [
    "### Fancy indexing\n",
    "\n",
    "Fancy indexing is the name for when an array or a list is used in-place of an index:"
   ]
  },
  {
   "cell_type": "code",
   "execution_count": null,
   "metadata": {
    "id": "dodtVk82NYgl"
   },
   "outputs": [],
   "source": [
    "twenty = (np.arange(4 * 5)).reshape(4, 5)\n",
    "twenty"
   ]
  },
  {
   "cell_type": "code",
   "execution_count": null,
   "metadata": {
    "id": "HBGJuEdjNYgl"
   },
   "outputs": [],
   "source": [
    "row_indices = [1, 2, 3]\n",
    "twenty[row_indices]\n"
   ]
  },
  {
   "cell_type": "code",
   "execution_count": null,
   "metadata": {
    "id": "8yXK5nykNYgl"
   },
   "outputs": [],
   "source": [
    "col_indices = [1, 2, -1] # remember, index -1 means the last element\n",
    "twenty[row_indices, col_indices]"
   ]
  },
  {
   "cell_type": "markdown",
   "metadata": {
    "id": "UcIE0HVGNYgl"
   },
   "source": [
    "\n",
    "\n",
    "We can also use index **masks**:\n",
    "\n",
    "    If the index mask is a NumPy array of data type bool, then an element is selected (True) or not (False) depending on the value of the index mask at the position of each element\n",
    "\n"
   ]
  },
  {
   "cell_type": "code",
   "execution_count": null,
   "metadata": {
    "id": "d0192icJNYgl"
   },
   "outputs": [],
   "source": [
    "# 1D array of random integers\n",
    "# get 10 integers from 0 to 23\n",
    "\n",
    "num_samples = 10\n",
    "integers = np.random.randint(23, size=num_samples)\n",
    "integers"
   ]
  },
  {
   "cell_type": "code",
   "execution_count": null,
   "metadata": {
    "id": "gRUFpTDjNYgl"
   },
   "outputs": [],
   "source": [
    "# mask has to be of the same shape as the array to be indexed; else IndexError would be thrown\n",
    "# mask for indexing alternate elements in the array\n",
    "row_mask = np.array([True, False, True, False, True, False, True, False, True, False])\n",
    "\n",
    "integers[row_mask]"
   ]
  },
  {
   "cell_type": "markdown",
   "metadata": {
    "id": "xUrTIaKlNYgl"
   },
   "source": [
    "\n",
    "\n",
    "This feature is very useful to conditionally select elements from an array, using for example comparison operators:\n"
   ]
  },
  {
   "cell_type": "code",
   "execution_count": null,
   "metadata": {
    "id": "StQoVdNNNYgm"
   },
   "outputs": [],
   "source": [
    "range_arr = np.arange(0, 10, 0.5)\n",
    "range_arr"
   ]
  },
  {
   "cell_type": "code",
   "execution_count": null,
   "metadata": {
    "id": "EjASVD_zNYgm"
   },
   "outputs": [],
   "source": [
    "mask = (range_arr > 5) * (range_arr < 7.5)\n",
    "mask\n",
    "# What is happenning here?"
   ]
  },
  {
   "cell_type": "code",
   "execution_count": null,
   "metadata": {
    "id": "JoPRfFytNYgm"
   },
   "outputs": [],
   "source": [
    "range_arr[mask]"
   ]
  },
  {
   "cell_type": "markdown",
   "metadata": {
    "id": "mSnbmFBLNYgm"
   },
   "source": [
    "* * * *\n",
    "### Exercise:\n",
    " > Investigate the **Concatenation, Splitting, Copies,repeat, tile, vstack, hstack**  functions for numpy arrays.\n",
    "\n",
    " > Investigate [Views versus copies in NumPy](https://scipy-cookbook.readthedocs.io/items/ViewsVsCopies.html)\n",
    "\n",
    "\n",
    "\n",
    "* * * *"
   ]
  },
  {
   "cell_type": "markdown",
   "metadata": {
    "id": "XR0xbq7wNYgm"
   },
   "source": [
    "## Array math\n",
    "\n",
    "Basic mathematical functions operate elementwise on arrays, and are available both as operator overloads and as functions in the numpy module:"
   ]
  },
  {
   "cell_type": "code",
   "execution_count": null,
   "metadata": {
    "id": "y7E-HgHwNYgn"
   },
   "outputs": [],
   "source": [
    "import numpy as np\n",
    "\n",
    "x = np.array([[1,2],[3,4]], dtype=np.float64)\n",
    "y = np.array([[5,6],[7,8]], dtype=np.float64)\n",
    "\n",
    "# Elementwise sum; both produce the array\n",
    "# [[ 6.0  8.0]\n",
    "#  [10.0 12.0]]\n",
    "print(x + y)\n",
    "print(np.add(x, y))\n",
    "\n",
    "# Elementwise difference; both produce the array\n",
    "# [[-4.0 -4.0]\n",
    "#  [-4.0 -4.0]]\n",
    "print(x - y)\n",
    "print(np.subtract(x, y))\n",
    "\n",
    "# Elementwise product; both produce the array\n",
    "# [[ 5.0 12.0]\n",
    "#  [21.0 32.0]]\n",
    "print(x * y)\n",
    "print(np.multiply(x, y))\n",
    "\n",
    "# Elementwise division; both produce the array\n",
    "# [[ 0.2         0.33333333]\n",
    "#  [ 0.42857143  0.5       ]]\n",
    "print(x / y)\n",
    "print(np.divide(x, y))\n",
    "\n",
    "# Elementwise square root; produces the array\n",
    "# [[ 1.          1.41421356]\n",
    "#  [ 1.73205081  2.        ]]\n",
    "print(np.sqrt(x))\n"
   ]
  },
  {
   "cell_type": "markdown",
   "metadata": {
    "id": "OtPBCvarNYgn"
   },
   "source": [
    "We instead use the ``dot`` function to compute inner products of vectors, to multiply a vector by a matrix, and to multiply matrices. ``dot`` is available both as a function in the numpy module and as an instance method of array objects:"
   ]
  },
  {
   "cell_type": "code",
   "execution_count": null,
   "metadata": {
    "id": "uM5_zG5SNYgn"
   },
   "outputs": [],
   "source": [
    "import numpy as np\n",
    "\n",
    "x = np.array([[1,2],[3,4]])\n",
    "y = np.array([[5,6],[7,8]])\n",
    "\n",
    "v = np.array([9,10])\n",
    "w = np.array([11, 12])\n",
    "\n",
    "# Inner product of vectors; both produce 219\n",
    "print(v.dot(w))\n",
    "print(np.dot(v, w))\n",
    "\n",
    "# Matrix / vector product; both produce the rank 1 array [29 67]\n",
    "print(x.dot(v))\n",
    "print(np.dot(x, v))\n",
    "\n",
    "# Matrix / matrix product; both produce the rank 2 array\n",
    "# [[19 22]\n",
    "#  [43 50]]\n",
    "print(x.dot(y))\n",
    "print(np.dot(x, y))\n"
   ]
  },
  {
   "cell_type": "markdown",
   "metadata": {
    "id": "8d2hnlVINYgn"
   },
   "source": [
    "Numpy provides many useful functions for performing computations on arrays; one of the most useful is ``sum``"
   ]
  },
  {
   "cell_type": "code",
   "execution_count": null,
   "metadata": {
    "id": "xyvBLKTrNYgn"
   },
   "outputs": [],
   "source": [
    "import numpy as np\n",
    "\n",
    "x = np.array([[1,2],[3,4]])\n",
    "\n",
    "print(np.sum(x))  # Compute sum of all elements; prints \"10\"\n",
    "print(np.sum(x, axis=0))  # Compute sum of each column; prints \"[4 6]\"\n",
    "print(np.sum(x, axis=1))  # Compute sum of each row; prints \"[3 7]\"\n"
   ]
  },
  {
   "cell_type": "markdown",
   "metadata": {
    "id": "H6CjgTu4NYgo"
   },
   "source": [
    "You can find the full list of mathematical functions provided by numpy [in the documentation](https://docs.scipy.org/doc/numpy/reference/routines.math.html)."
   ]
  },
  {
   "cell_type": "markdown",
   "metadata": {
    "id": "wNGVpekyNYgo"
   },
   "source": [
    "## Vectorizing functions\n",
    "\n",
    "As mentioned several times by now, to get good performance we should always try to avoid looping over elements in our vectors and matrices, and instead use vectorized algorithms. The first step in converting a scalar algorithm to a vectorized algorithm is to make sure that the functions we write work with vector inputs."
   ]
  },
  {
   "cell_type": "code",
   "execution_count": null,
   "metadata": {
    "id": "jEqo0PuwNYgo"
   },
   "outputs": [],
   "source": [
    "def Theta(x):\n",
    "    \"\"\"\n",
    "    scalar implementation of the Heaviside step function.\n",
    "    \"\"\"\n",
    "    if x >= 0:\n",
    "        return 1\n",
    "    else:\n",
    "        return 0"
   ]
  },
  {
   "cell_type": "code",
   "execution_count": null,
   "metadata": {
    "id": "0oiJ2G-LNYgo"
   },
   "outputs": [],
   "source": [
    "v1 = np.array([-3,-2,-1,0,1,2,3])\n",
    "\n",
    "Theta(v1)"
   ]
  },
  {
   "cell_type": "markdown",
   "metadata": {
    "id": "CnkqRNshNYgo"
   },
   "source": [
    "\n",
    "\n",
    "That didn't work because we didn't write the function Theta so that it can handle a vector input...\n",
    "\n",
    "To get a vectorized version of Theta we can use the Numpy function vectorize. In many cases it can automatically vectorize a function:\n"
   ]
  },
  {
   "cell_type": "code",
   "execution_count": null,
   "metadata": {
    "id": "42iDk4xBNYgo"
   },
   "outputs": [],
   "source": [
    "Theta_vec = np.vectorize(Theta)\n",
    "Theta_vec(v1)"
   ]
  },
  {
   "cell_type": "markdown",
   "metadata": {
    "id": "t37CJwsQNYgp"
   },
   "source": [
    "On the Other Hand (OTHO), we can also implement the function to accept a vector input from the beginning (requires more effort but might give better performance):"
   ]
  },
  {
   "cell_type": "code",
   "execution_count": null,
   "metadata": {
    "id": "b5bztASaNYgp"
   },
   "outputs": [],
   "source": [
    "def Theta(x):\n",
    "    \"\"\"\n",
    "    Vector-aware implementation of the Heaviside step function.\n",
    "    \"\"\"\n",
    "    return 1 * (x >= 0)"
   ]
  },
  {
   "cell_type": "code",
   "execution_count": null,
   "metadata": {
    "id": "ETo-fbd8NYgp"
   },
   "outputs": [],
   "source": [
    "Theta(v1)"
   ]
  },
  {
   "cell_type": "code",
   "execution_count": null,
   "metadata": {
    "id": "u72Vhr7DNYgp"
   },
   "outputs": [],
   "source": [
    "# it even works with scalar input\n",
    "Theta(-1.2), Theta(2.6)"
   ]
  },
  {
   "cell_type": "markdown",
   "metadata": {
    "id": "5-zfgWNQNYgp"
   },
   "source": [
    "Numpy provides many more functions for manipulating arrays; you can see the full list [in the documentation](https://docs.scipy.org/doc/numpy/reference/routines.array-manipulation.html)."
   ]
  },
  {
   "cell_type": "markdown",
   "metadata": {
    "id": "GWH_zS1xNYgq"
   },
   "source": [
    "## Broadcasting\n",
    "\n",
    "Broadcasting is a powerful mechanism that allows numpy to work with arrays of different shapes when performing arithmetic operations. Frequently we have a smaller array and a larger array, and we want to use the smaller array multiple times to perform some operation on the larger array."
   ]
  },
  {
   "cell_type": "markdown",
   "metadata": {
    "id": "mMToY6-3NYgq"
   },
   "source": [
    "<img src=\"broad.png\" alt=\"Vlad's Home Directory\" />"
   ]
  },
  {
   "cell_type": "markdown",
   "metadata": {
    "id": "OjRGcdU5NYgq"
   },
   "source": [
    "For example, suppose that we want to add a constant vector to each row of a matrix. We could do it like this:"
   ]
  },
  {
   "cell_type": "code",
   "execution_count": null,
   "metadata": {
    "id": "MGGpU4z-NYgq"
   },
   "outputs": [],
   "source": [
    "import numpy as np\n",
    "\n",
    "# We will add the vector v to each row of the matrix x,\n",
    "# storing the result in the matrix y\n",
    "x = np.array([[1,2,3], [4,5,6], [7,8,9], [10, 11, 12]])\n",
    "v = np.array([1, 0, 1])\n",
    "y = np.empty_like(x)   # Create an empty matrix with the same shape as x\n",
    "\n",
    "# Add the vector v to each row of the matrix x with an explicit loop\n",
    "for i in range(4):\n",
    "    y[i, :] = x[i, :] + v\n",
    "\n",
    "# Now y is the following\n",
    "# [[ 2  2  4]\n",
    "#  [ 5  5  7]\n",
    "#  [ 8  8 10]\n",
    "#  [11 11 13]]\n",
    "print(y)\n"
   ]
  },
  {
   "cell_type": "markdown",
   "metadata": {
    "id": "qIaIPE1ENYgq"
   },
   "source": [
    "This works; however when the matrix ``x`` is very large, computing an explicit loop in Python could be slow. Note that adding the vector ``v ``to each row of the matrix ``x`` is equivalent to forming a matrix ``vv`` by stacking multiple copies of ``v`` vertically, then performing elementwise summation of ``x`` and ``vv``. We could implement this approach like this:"
   ]
  },
  {
   "cell_type": "code",
   "execution_count": null,
   "metadata": {
    "id": "QWW8Il29NYgq"
   },
   "outputs": [],
   "source": [
    "import numpy as np\n",
    "\n",
    "# We will add the vector v to each row of the matrix x,\n",
    "# storing the result in the matrix y\n",
    "x = np.array([[1,2,3], [4,5,6], [7,8,9], [10, 11, 12]])\n",
    "v = np.array([1, 0, 1])\n",
    "vv = np.tile(v, (4, 1))   # Stack 4 copies of v on top of each other\n",
    "print(vv)                 # Prints \"[[1 0 1]\n",
    "                          #          [1 0 1]\n",
    "                          #          [1 0 1]\n",
    "                          #          [1 0 1]]\"\n",
    "y = x + vv  # Add x and vv elementwise\n",
    "print(y)  # Prints \"[[ 2  2  4\n",
    "          #          [ 5  5  7]\n",
    "          #          [ 8  8 10]\n",
    "          #          [11 11 13]]\"\n"
   ]
  },
  {
   "cell_type": "markdown",
   "metadata": {
    "id": "V8uytIJQNYgq"
   },
   "source": [
    "Numpy broadcasting allows us to perform this computation without actually creating multiple copies of v. Consider this version, using broadcasting:"
   ]
  },
  {
   "cell_type": "code",
   "execution_count": null,
   "metadata": {
    "id": "8vczUeUKNYgq"
   },
   "outputs": [],
   "source": [
    "import numpy as np\n",
    "\n",
    "# We will add the vector v to each row of the matrix x,\n",
    "# storing the result in the matrix y\n",
    "x = np.array([[1,2,3], [4,5,6], [7,8,9], [10, 11, 12]])\n",
    "v = np.array([1, 0, 1])\n",
    "y = x + v  # Add v to each row of x using broadcasting\n",
    "print(y)  # Prints \"[[ 2  2  4]\n",
    "          #          [ 5  5  7]\n",
    "          #          [ 8  8 10]\n",
    "          #          [11 11 13]]\"\n"
   ]
  },
  {
   "cell_type": "markdown",
   "metadata": {
    "id": "zndotloLNYgq"
   },
   "source": [
    "The line ``y = x + v`` works even though ``x`` has shape **(4, 3)** and ``v`` has shape **(3,)** due to broadcasting; this line works as if ``v`` actually had shape **(4, 3)**, where each row was a copy of ``v``, and the sum was performed elementwise.\n",
    "\n",
    "* * * *\n",
    "\n",
    "Broadcasting two arrays together follows these rules:\n",
    "\n",
    "\n",
    "1. If the arrays do not have the same rank, prepend the shape of the lower rank array with 1s until both shapes have the same length.\n",
    "\n",
    "2. The two arrays are said to be compatible in a dimension if they have the same size in the dimension, or if one of the arrays has size 1 in that dimension.\n",
    "    \n",
    "3. The arrays can be broadcast together if they are compatible in all dimensions.\n",
    "    \n",
    "4. After broadcasting, each array behaves as if it had shape equal to the elementwise maximum of shapes of the two input arrays.\n",
    "    \n",
    "5. In any dimension where one array had size 1 and the other array had size greater than 1, the first array behaves as if it were copied along that dimension\n",
    "\n",
    "\n",
    "If this explanation does not make sense, try reading the explanation from the [documentation](https://docs.scipy.org/doc/numpy/user/basics.broadcasting.html)\n",
    "Functions that support broadcasting are known as universal functions. You can find the list of all universal functions [in the documentation](https://docs.scipy.org/doc/numpy/reference/ufuncs.html#available-ufuncs)."
   ]
  },
  {
   "cell_type": "code",
   "execution_count": null,
   "metadata": {
    "id": "cglapiU-NYgq"
   },
   "outputs": [],
   "source": [
    "Here are some applications of broadcasting:"
   ]
  },
  {
   "cell_type": "code",
   "execution_count": null,
   "metadata": {
    "id": "txFiTQLENYgq"
   },
   "outputs": [],
   "source": [
    "import numpy as np\n",
    "\n",
    "# Compute outer product of vectors\n",
    "v = np.array([1,2,3])  # v has shape (3,)\n",
    "w = np.array([4,5])    # w has shape (2,)\n",
    "# To compute an outer product, we first reshape v to be a column\n",
    "# vector of shape (3, 1); we can then broadcast it against w to yield\n",
    "# an output of shape (3, 2), which is the outer product of v and w:\n",
    "# [[ 4  5]\n",
    "#  [ 8 10]\n",
    "#  [12 15]]\n",
    "print(np.reshape(v, (3, 1)) * w)\n",
    "\n",
    "# Add a vector to each row of a matrix\n",
    "x = np.array([[1,2,3], [4,5,6]])\n",
    "# x has shape (2, 3) and v has shape (3,) so they broadcast to (2, 3),\n",
    "# giving the following matrix:\n",
    "# [[2 4 6]\n",
    "#  [5 7 9]]\n",
    "print(x + v)\n",
    "\n",
    "# Add a vector to each column of a matrix\n",
    "# x has shape (2, 3) and w has shape (2,).\n",
    "# If we transpose x then it has shape (3, 2) and can be broadcast\n",
    "# against w to yield a result of shape (3, 2); transposing this result\n",
    "# yields the final result of shape (2, 3) which is the matrix x with\n",
    "# the vector w added to each column. Gives the following matrix:\n",
    "# [[ 5  6  7]\n",
    "#  [ 9 10 11]]\n",
    "print((x.T + w).T)\n",
    "# Another solution is to reshape w to be a column vector of shape (2, 1);\n",
    "# we can then broadcast it directly against x to produce the same\n",
    "# output.\n",
    "print(x + np.reshape(w, (2, 1)))\n",
    "\n",
    "# Multiply a matrix by a constant:\n",
    "# x has shape (2, 3). Numpy treats scalars as arrays of shape ();\n",
    "# these can be broadcast together to shape (2, 3), producing the\n",
    "# following array:\n",
    "# [[ 2  4  6]\n",
    "#  [ 8 10 12]]\n",
    "print(x * 2)\n"
   ]
  },
  {
   "cell_type": "markdown",
   "metadata": {
    "id": "opFBxIwJNYgq"
   },
   "source": [
    "Broadcasting typically makes your code more concise and faster, so you should strive to use it where possible."
   ]
  },
  {
   "cell_type": "markdown",
   "metadata": {
    "id": "1NM58TuNNYgq"
   },
   "source": [
    "****\n",
    "\n",
    "<!--NAVIGATION-->\n",
    "<  [5.Functions, Modules & PAckages](05.Lecture05.ipynb)| [ToC](Index.ipynb) | [7.Matplotlib](07.Lecture07.ipynb)>\n",
    "\n",
    "****"
   ]
  }
 ],
 "metadata": {
  "colab": {
   "include_colab_link": true,
   "provenance": []
  },
  "kernelspec": {
   "display_name": "Python 3 (ipykernel)",
   "language": "python",
   "name": "python3"
  },
  "language_info": {
   "codemirror_mode": {
    "name": "ipython",
    "version": 3
   },
   "file_extension": ".py",
   "mimetype": "text/x-python",
   "name": "python",
   "nbconvert_exporter": "python",
   "pygments_lexer": "ipython3",
   "version": "3.12.6"
  }
 },
 "nbformat": 4,
 "nbformat_minor": 4
}
